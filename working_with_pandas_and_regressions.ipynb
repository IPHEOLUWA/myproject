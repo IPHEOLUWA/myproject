{
  "nbformat": 4,
  "nbformat_minor": 0,
  "metadata": {
    "colab": {
      "provenance": [],
      "include_colab_link": true
    },
    "kernelspec": {
      "name": "python3",
      "display_name": "Python 3"
    },
    "language_info": {
      "name": "python"
    }
  },
  "cells": [
    {
      "cell_type": "markdown",
      "metadata": {
        "id": "view-in-github",
        "colab_type": "text"
      },
      "source": [
        "<a href=\"https://colab.research.google.com/github/IPHEOLUWA/myproject/blob/main/working_with_pandas_and_regressions.ipynb\" target=\"_parent\"><img src=\"https://colab.research.google.com/assets/colab-badge.svg\" alt=\"Open In Colab\"/></a>"
      ]
    },
    {
      "cell_type": "code",
      "execution_count": null,
      "metadata": {
        "colab": {
          "base_uri": "https://localhost:8080/"
        },
        "id": "sdWedv_mgfvx",
        "outputId": "69ae931b-b5da-4e05-bf89-dda8bb5402c5"
      },
      "outputs": [
        {
          "output_type": "stream",
          "name": "stdout",
          "text": [
            "Requirement already satisfied: pandas in /usr/local/lib/python3.10/dist-packages (2.1.4)\n",
            "Requirement already satisfied: numpy<2,>=1.22.4 in /usr/local/lib/python3.10/dist-packages (from pandas) (1.26.4)\n",
            "Requirement already satisfied: python-dateutil>=2.8.2 in /usr/local/lib/python3.10/dist-packages (from pandas) (2.8.2)\n",
            "Requirement already satisfied: pytz>=2020.1 in /usr/local/lib/python3.10/dist-packages (from pandas) (2024.2)\n",
            "Requirement already satisfied: tzdata>=2022.1 in /usr/local/lib/python3.10/dist-packages (from pandas) (2024.1)\n",
            "Requirement already satisfied: six>=1.5 in /usr/local/lib/python3.10/dist-packages (from python-dateutil>=2.8.2->pandas) (1.16.0)\n"
          ]
        }
      ],
      "source": [
        "!pip install pandas"
      ]
    },
    {
      "cell_type": "code",
      "source": [
        "!pip install matplotlib\n",
        "!pip install seaborn"
      ],
      "metadata": {
        "id": "cp_SbBGe98yc"
      },
      "execution_count": null,
      "outputs": []
    },
    {
      "cell_type": "code",
      "source": [
        "from google.colab import drive\n",
        "drive.mount('/content/drive')\n"
      ],
      "metadata": {
        "colab": {
          "base_uri": "https://localhost:8080/"
        },
        "id": "modD4Zh9nPty",
        "outputId": "d0693dcd-a27a-4b35-b441-6ebded9e9271"
      },
      "execution_count": null,
      "outputs": [
        {
          "output_type": "stream",
          "name": "stdout",
          "text": [
            "Mounted at /content/drive\n"
          ]
        }
      ]
    },
    {
      "cell_type": "code",
      "source": [
        "!pip install numpy"
      ],
      "metadata": {
        "colab": {
          "base_uri": "https://localhost:8080/"
        },
        "id": "3n-j8AFThHvx",
        "outputId": "89854ff4-3341-41a2-dee5-75b0a0db7c11"
      },
      "execution_count": null,
      "outputs": [
        {
          "output_type": "stream",
          "name": "stdout",
          "text": [
            "Requirement already satisfied: numpy in /usr/local/lib/python3.10/dist-packages (1.26.4)\n"
          ]
        }
      ]
    },
    {
      "cell_type": "code",
      "source": [
        "import numpy as np\n",
        "import pandas as pd\n"
      ],
      "metadata": {
        "id": "KkVgN_0Zh1Fg"
      },
      "execution_count": null,
      "outputs": []
    },
    {
      "cell_type": "code",
      "source": [
        "import pandas as pd\n",
        "df = pd.read_csv('/content/drive/My Drive/Colab Notebooks/data/rideshare_2022.csv')\n",
        "print(df.columns)"
      ],
      "metadata": {
        "colab": {
          "base_uri": "https://localhost:8080/"
        },
        "id": "ZYXbZIgkiL0T",
        "outputId": "f0159686-4757-4f68-a227-cf81428b950d"
      },
      "execution_count": null,
      "outputs": [
        {
          "output_type": "stream",
          "name": "stdout",
          "text": [
            "Index(['Trip ID', 'Trip Start Timestamp', 'Trip End Timestamp', 'Trip Seconds',\n",
            "       'Trip Miles', 'Pickup Census Tract', 'Dropoff Census Tract',\n",
            "       'Pickup Community Area', 'Dropoff Community Area', 'Fare', 'Tip',\n",
            "       'Additional Charges', 'Trip Total', 'Shared Trip Authorized',\n",
            "       'Trips Pooled', 'Pickup Centroid Latitude', 'Pickup Centroid Longitude',\n",
            "       'Pickup Centroid Location', 'Dropoff Centroid Latitude',\n",
            "       'Dropoff Centroid Longitude', 'Dropoff Centroid Location', 'len_date'],\n",
            "      dtype='object')\n"
          ]
        }
      ]
    },
    {
      "cell_type": "code",
      "source": [],
      "metadata": {
        "id": "kSPFTBzV2qvL"
      },
      "execution_count": null,
      "outputs": []
    },
    {
      "cell_type": "code",
      "source": [
        "five = df.head()\n",
        "trips = df['Trip Seconds']\n",
        "tripm = df['Trip Miles']\n",
        "trips5 = trips.head()\n",
        "tripm5 = tripm.head()\n",
        "# print(trips.head())\n",
        "# print(tripm.head())\n",
        "result = trips.corr(tripm)\n",
        "print(five)\n",
        "print(result)"
      ],
      "metadata": {
        "colab": {
          "base_uri": "https://localhost:8080/"
        },
        "id": "_EWkTJ7Z1YXU",
        "outputId": "65fd97d0-0535-40e8-80dd-9cd06d40e98c"
      },
      "execution_count": null,
      "outputs": [
        {
          "output_type": "stream",
          "name": "stdout",
          "text": [
            "                                    Trip ID Trip Start Timestamp  \\\n",
            "0  04767642defd6a3825d089ae66183906a89b902d     01/01/2022 00:00   \n",
            "1  138de88e19e045d9962f1f669e668f9dcdfbc9fd     01/01/2022 00:00   \n",
            "2  249cb7bc8eea309aaa3ef941756df4f62a53a92a     01/01/2022 00:00   \n",
            "3  36c8a2a4cd85fb32ae32170550d2a4d30b8df8a1     01/01/2022 00:00   \n",
            "4  493f7bbcba1d96bf10bd579fe1c4b7ddb95fd3a6     01/01/2022 00:00   \n",
            "\n",
            "  Trip End Timestamp  Trip Seconds  Trip Miles  Pickup Census Tract  \\\n",
            "0   01/01/2022 01:15        3905.0        44.5         1.703104e+10   \n",
            "1   01/01/2022 00:30        2299.0        25.0                  NaN   \n",
            "2   01/01/2022 00:00         275.0         1.5                  NaN   \n",
            "3   01/01/2022 00:15         243.0         1.0         1.703106e+10   \n",
            "4   01/01/2022 00:15         364.0         1.3         1.703107e+10   \n",
            "\n",
            "   Dropoff Census Tract  Pickup Community Area  Dropoff Community Area  Fare  \\\n",
            "0                   NaN                    4.0                     NaN  55.0   \n",
            "1                   NaN                   32.0                     NaN  32.5   \n",
            "2                   NaN                   40.0                    38.0   7.5   \n",
            "3          1.703106e+10                    6.0                     6.0   5.0   \n",
            "4          1.703106e+10                    7.0                     6.0   5.0   \n",
            "\n",
            "   ...  Trip Total  Shared Trip Authorized  Trips Pooled  \\\n",
            "0  ...       66.25                       0             1   \n",
            "1  ...       46.68                       0             1   \n",
            "2  ...        8.52                       0             1   \n",
            "3  ...        7.36                       0             1   \n",
            "4  ...        7.36                       0             1   \n",
            "\n",
            "   Pickup Centroid Latitude  Pickup Centroid Longitude  \\\n",
            "0                 41.972563                 -87.678846   \n",
            "1                 41.878866                 -87.625192   \n",
            "2                 41.792357                 -87.617931   \n",
            "3                 41.936310                 -87.651563   \n",
            "4                 41.921855                 -87.646211   \n",
            "\n",
            "               Pickup Centroid Location  Dropoff Centroid Latitude  \\\n",
            "0  POINT (-87.6788459662 41.9725625375)                        NaN   \n",
            "1  POINT (-87.6251921424 41.8788655841)                        NaN   \n",
            "2  POINT (-87.6179313803 41.7923572233)                  41.812949   \n",
            "3  POINT (-87.6515625922 41.9363101308)                  41.943155   \n",
            "4  POINT (-87.6462109769 41.9218549112)                  41.936237   \n",
            "\n",
            "  Dropoff Centroid Longitude             Dropoff Centroid Location  len_date  \n",
            "0                        NaN                                   NaN        16  \n",
            "1                        NaN                                   NaN        16  \n",
            "2                 -87.617860  POINT (-87.6178596758 41.8129489392)        16  \n",
            "3                 -87.640698   POINT (-87.640698076 41.9431550855)        16  \n",
            "4                 -87.656412  POINT (-87.6564115308 41.9362371791)        16  \n",
            "\n",
            "[5 rows x 22 columns]\n",
            "0.8269083487280461\n"
          ]
        }
      ]
    },
    {
      "cell_type": "code",
      "source": [
        "import seaborn as sns\n",
        "import matplotlib.pyplot as plt\n",
        "sns.pairplot(five, vars=['Trip Seconds', 'Trip Miles'], hue='Trip Miles')\n",
        "# plt.show()"
      ],
      "metadata": {
        "colab": {
          "base_uri": "https://localhost:8080/",
          "height": 530
        },
        "id": "Dd9X4Ara8087",
        "outputId": "4d01ad95-a490-446e-d7a5-4758d0017253"
      },
      "execution_count": null,
      "outputs": [
        {
          "output_type": "execute_result",
          "data": {
            "text/plain": [
              "<seaborn.axisgrid.PairGrid at 0x78ed9de899c0>"
            ]
          },
          "metadata": {},
          "execution_count": 52
        },
        {
          "output_type": "display_data",
          "data": {
            "text/plain": [
              "<Figure size 580.625x500 with 6 Axes>"
            ],
            "image/png": "[encoded data removed]"
          },
          "metadata": {}
        }
      ]
    }
  ]
}