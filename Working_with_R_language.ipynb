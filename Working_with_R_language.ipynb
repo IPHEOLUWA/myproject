{
  "nbformat": 4,
  "nbformat_minor": 0,
  "metadata": {
    "colab": {
      "provenance": [],
      "authorship_tag": "ABX9TyMuzxyalf792Vfg/N2GYl8x",
      "include_colab_link": true
    },
    "kernelspec": {
      "name": "ir",
      "display_name": "R"
    },
    "language_info": {
      "name": "R"
    }
  },
  "cells": [
    {
      "cell_type": "markdown",
      "metadata": {
        "id": "view-in-github",
        "colab_type": "text"
      },
      "source": [
        "<a href=\"https://colab.research.google.com/github/IPHEOLUWA/myproject/blob/main/Working_with_R_language.ipynb\" target=\"_parent\"><img src=\"https://colab.research.google.com/assets/colab-badge.svg\" alt=\"Open In Colab\"/></a>"
      ]
    },
    {
      "cell_type": "code",
      "execution_count": null,
      "metadata": {
        "id": "-MDGinQ1Oka_"
      },
      "outputs": [],
      "source": []
    },
    {
      "cell_type": "markdown",
      "source": [
        "INTRODUCTION TO R PROGRAMMING\n"
      ],
      "metadata": {
        "id": "T9ctZ9uEQaQ8"
      }
    },
    {
      "cell_type": "code",
      "source": [
        "a = 20\n",
        "print (a)"
      ],
      "metadata": {
        "colab": {
          "base_uri": "https://localhost:8080/"
        },
        "id": "7_wJDpYNQiPr",
        "outputId": "8fa7c0bf-ce8b-4a78-cd6c-0de44c3a56b9"
      },
      "execution_count": null,
      "outputs": [
        {
          "output_type": "stream",
          "name": "stdout",
          "text": [
            "[1] 20\n"
          ]
        }
      ]
    },
    {
      "cell_type": "code",
      "source": [
        "pp <- 200\n",
        "print (pp)"
      ],
      "metadata": {
        "colab": {
          "base_uri": "https://localhost:8080/"
        },
        "id": "bzoYHHNaQx7-",
        "outputId": "4b17f85a-dfff-476d-dd30-402433bdbc0c"
      },
      "execution_count": null,
      "outputs": [
        {
          "output_type": "stream",
          "name": "stdout",
          "text": [
            "[1] 200\n"
          ]
        }
      ]
    },
    {
      "cell_type": "code",
      "source": [
        "sentence <-  \"This is the sentence we have\"\n",
        "print(sentence)\n"
      ],
      "metadata": {
        "colab": {
          "base_uri": "https://localhost:8080/"
        },
        "id": "MYMfIuQ9WEwu",
        "outputId": "0f08f867-6bde-457b-8bd7-3d12f8bd76f2"
      },
      "execution_count": null,
      "outputs": [
        {
          "output_type": "stream",
          "name": "stdout",
          "text": [
            "[1] \"This is the sentence we have\"\n"
          ]
        }
      ]
    },
    {
      "cell_type": "code",
      "source": [
        "istrue <- TRUE\n",
        "print (istrue)"
      ],
      "metadata": {
        "colab": {
          "base_uri": "https://localhost:8080/"
        },
        "id": "e5Z8wbMtWSqn",
        "outputId": "8464fe3b-edf5-42e1-b86f-2173718a296e"
      },
      "execution_count": null,
      "outputs": [
        {
          "output_type": "stream",
          "name": "stdout",
          "text": [
            "[1] TRUE\n"
          ]
        }
      ]
    },
    {
      "cell_type": "code",
      "source": [
        "naira <- 20.6\n",
        "print (naira)"
      ],
      "metadata": {
        "colab": {
          "base_uri": "https://localhost:8080/"
        },
        "id": "NLPXXMLJW6yN",
        "outputId": "4b0dc8cd-56d3-481b-9d75-5d51e415d218"
      },
      "execution_count": null,
      "outputs": [
        {
          "output_type": "stream",
          "name": "stdout",
          "text": [
            "[1] 20.6\n"
          ]
        }
      ]
    },
    {
      "cell_type": "code",
      "source": [
        "a = 20\n",
        "class (a)"
      ],
      "metadata": {
        "colab": {
          "base_uri": "https://localhost:8080/",
          "height": 34
        },
        "id": "slMuGfQNYz6y",
        "outputId": "60dcd8ee-da6c-4a58-fb1a-f51e87b5bd1a"
      },
      "execution_count": null,
      "outputs": [
        {
          "output_type": "display_data",
          "data": {
            "text/html": [
              "'numeric'"
            ],
            "text/markdown": "'numeric'",
            "text/latex": "'numeric'",
            "text/plain": [
              "[1] \"numeric\""
            ]
          },
          "metadata": {}
        }
      ]
    },
    {
      "cell_type": "code",
      "source": [
        "sentence <-  \"This is the sentence we have\"\n",
        "class (sentence)"
      ],
      "metadata": {
        "colab": {
          "base_uri": "https://localhost:8080/",
          "height": 34
        },
        "id": "R4kUoRfDZRM8",
        "outputId": "dbe3b05c-31a6-4783-b458-22f22a1c65f4"
      },
      "execution_count": null,
      "outputs": [
        {
          "output_type": "display_data",
          "data": {
            "text/html": [
              "'character'"
            ],
            "text/markdown": "'character'",
            "text/latex": "'character'",
            "text/plain": [
              "[1] \"character\""
            ]
          },
          "metadata": {}
        }
      ]
    },
    {
      "cell_type": "markdown",
      "source": [
        "ARITHMETIC OPERATORS IN R\n"
      ],
      "metadata": {
        "id": "CTz1lMxGZeOt"
      }
    },
    {
      "cell_type": "code",
      "source": [
        "a <- 20\n",
        "b <- 30\n",
        "sum <- a+b\n",
        "print (sum)"
      ],
      "metadata": {
        "colab": {
          "base_uri": "https://localhost:8080/"
        },
        "id": "86Qn4MVHZj2i",
        "outputId": "0d1f7927-7845-4b2f-bc39-987e4fb670f4"
      },
      "execution_count": null,
      "outputs": [
        {
          "output_type": "stream",
          "name": "stdout",
          "text": [
            "[1] 50\n"
          ]
        }
      ]
    },
    {
      "cell_type": "code",
      "source": [
        "diff <- a-b\n",
        "print (diff)"
      ],
      "metadata": {
        "colab": {
          "base_uri": "https://localhost:8080/"
        },
        "id": "WgSg1yq5Z3k_",
        "outputId": "6890437f-cbf2-4b03-923e-e014587ac32e"
      },
      "execution_count": null,
      "outputs": [
        {
          "output_type": "stream",
          "name": "stdout",
          "text": [
            "[1] -10\n"
          ]
        }
      ]
    },
    {
      "cell_type": "code",
      "source": [
        "mult = a * b\n",
        "print (mult)"
      ],
      "metadata": {
        "colab": {
          "base_uri": "https://localhost:8080/"
        },
        "id": "LW7rov_BaAgW",
        "outputId": "4010ad1b-a4d4-451a-e01b-488c5757797b"
      },
      "execution_count": null,
      "outputs": [
        {
          "output_type": "stream",
          "name": "stdout",
          "text": [
            "[1] 600\n"
          ]
        }
      ]
    },
    {
      "cell_type": "code",
      "source": [
        "div = a / b\n",
        "print (div)"
      ],
      "metadata": {
        "colab": {
          "base_uri": "https://localhost:8080/"
        },
        "id": "pHKOYVqTazaJ",
        "outputId": "4fa35435-e661-4a5e-84e8-06ea4fc65e2e"
      },
      "execution_count": null,
      "outputs": [
        {
          "output_type": "stream",
          "name": "stdout",
          "text": [
            "[1] 0.6666667\n"
          ]
        }
      ]
    },
    {
      "cell_type": "code",
      "source": [
        "pow = a^3\n",
        "print (pow)"
      ],
      "metadata": {
        "colab": {
          "base_uri": "https://localhost:8080/"
        },
        "id": "g-fBlAaya_Yt",
        "outputId": "f1f68ccb-10a9-4088-f5e1-9a8a38a658e8"
      },
      "execution_count": null,
      "outputs": [
        {
          "output_type": "stream",
          "name": "stdout",
          "text": [
            "[1] 8000\n"
          ]
        }
      ]
    },
    {
      "cell_type": "code",
      "source": [
        "res = (2^5+8)/(10^2)\n",
        "print (res)"
      ],
      "metadata": {
        "colab": {
          "base_uri": "https://localhost:8080/"
        },
        "id": "s16AY3LobHso",
        "outputId": "d7476fe8-6cea-4912-f473-9cbb9e35f8fc"
      },
      "execution_count": null,
      "outputs": [
        {
          "output_type": "stream",
          "name": "stdout",
          "text": [
            "[1] 0.4\n"
          ]
        }
      ]
    },
    {
      "cell_type": "code",
      "source": [
        "(2^(5+2*3))/(2^(3+4*2))"
      ],
      "metadata": {
        "colab": {
          "base_uri": "https://localhost:8080/",
          "height": 34
        },
        "id": "eGgPMB3Db16-",
        "outputId": "ad029dd4-1650-446f-8155-e3926b654931"
      },
      "execution_count": null,
      "outputs": [
        {
          "output_type": "display_data",
          "data": {
            "text/html": [
              "1"
            ],
            "text/markdown": "1",
            "text/latex": "1",
            "text/plain": [
              "[1] 1"
            ]
          },
          "metadata": {}
        }
      ]
    },
    {
      "cell_type": "code",
      "source": [
        "res2 = (2^(5+2*3))/(2^(3+4*2))\n",
        "print (res2)"
      ],
      "metadata": {
        "colab": {
          "base_uri": "https://localhost:8080/"
        },
        "id": "ZgdbiIXCctwr",
        "outputId": "66491a5c-76ba-4ef2-d72a-45b28a53653d"
      },
      "execution_count": null,
      "outputs": [
        {
          "output_type": "stream",
          "name": "stdout",
          "text": [
            "[1] 1\n"
          ]
        }
      ]
    },
    {
      "cell_type": "code",
      "source": [
        "res3 = (-5+ ((5^2-4*1*6)^0.5))/(2*1)\n",
        "print (res3)"
      ],
      "metadata": {
        "colab": {
          "base_uri": "https://localhost:8080/"
        },
        "id": "M5lYA7-Ddn3i",
        "outputId": "93e439b2-2c88-4857-8a5e-1312c23d5557"
      },
      "execution_count": null,
      "outputs": [
        {
          "output_type": "stream",
          "name": "stdout",
          "text": [
            "[1] -2\n"
          ]
        }
      ]
    },
    {
      "cell_type": "code",
      "source": [
        "res4 = (-5- ((5^2-4*1*6)^0.5))/(2*1)\n",
        "print (res4)"
      ],
      "metadata": {
        "colab": {
          "base_uri": "https://localhost:8080/"
        },
        "id": "2KF8LW9TeYHM",
        "outputId": "23a92485-9089-443b-f4d9-739073cf16c0"
      },
      "execution_count": null,
      "outputs": [
        {
          "output_type": "stream",
          "name": "stdout",
          "text": [
            "[1] -3\n"
          ]
        }
      ]
    },
    {
      "cell_type": "code",
      "source": [
        "res5 = 5 %% 3\n",
        "print (res5)"
      ],
      "metadata": {
        "colab": {
          "base_uri": "https://localhost:8080/"
        },
        "id": "If9uJXzQgK-7",
        "outputId": "472dbaa7-824d-4a6e-e15b-ca368f7a3881"
      },
      "execution_count": null,
      "outputs": [
        {
          "output_type": "stream",
          "name": "stdout",
          "text": [
            "[1] 2\n"
          ]
        }
      ]
    },
    {
      "cell_type": "markdown",
      "source": [
        "  COMPARISON OPERATORS IN R LANGUAGE\n",
        "  "
      ],
      "metadata": {
        "id": "rBRtLMqsgFDm"
      }
    },
    {
      "cell_type": "code",
      "source": [
        "a = 30\n",
        "b = 50\n",
        "print ( a > b)"
      ],
      "metadata": {
        "colab": {
          "base_uri": "https://localhost:8080/"
        },
        "id": "iBBaluBAhhru",
        "outputId": "89bb4b60-c0c9-462c-c6cb-6363ecb5989d"
      },
      "execution_count": null,
      "outputs": [
        {
          "output_type": "stream",
          "name": "stdout",
          "text": [
            "[1] FALSE\n"
          ]
        }
      ]
    },
    {
      "cell_type": "code",
      "source": [
        "print ( a < b)"
      ],
      "metadata": {
        "colab": {
          "base_uri": "https://localhost:8080/"
        },
        "id": "Lmp4dOhJhpqo",
        "outputId": "db2ea7e1-8599-4435-b5e2-2155eabba5f0"
      },
      "execution_count": null,
      "outputs": [
        {
          "output_type": "stream",
          "name": "stdout",
          "text": [
            "[1] TRUE\n"
          ]
        }
      ]
    },
    {
      "cell_type": "code",
      "source": [
        "print (a <= b)"
      ],
      "metadata": {
        "colab": {
          "base_uri": "https://localhost:8080/"
        },
        "id": "0tovN1TJhviC",
        "outputId": "eea6ed35-08cf-49ce-dd0f-ba190ad829fb"
      },
      "execution_count": null,
      "outputs": [
        {
          "output_type": "stream",
          "name": "stdout",
          "text": [
            "[1] TRUE\n"
          ]
        }
      ]
    },
    {
      "cell_type": "code",
      "source": [
        "print (a >=b)"
      ],
      "metadata": {
        "colab": {
          "base_uri": "https://localhost:8080/"
        },
        "id": "XzCKj_W7h1rL",
        "outputId": "60dafe03-1273-4ee5-d3e8-7048999a1c5c"
      },
      "execution_count": null,
      "outputs": [
        {
          "output_type": "stream",
          "name": "stdout",
          "text": [
            "[1] FALSE\n"
          ]
        }
      ]
    },
    {
      "cell_type": "code",
      "source": [
        "print (a != b)\n"
      ],
      "metadata": {
        "colab": {
          "base_uri": "https://localhost:8080/"
        },
        "id": "2qt9ZIkvh_2M",
        "outputId": "a40ba1a6-f4a5-45f8-8864-63b3d6f9beea"
      },
      "execution_count": null,
      "outputs": [
        {
          "output_type": "stream",
          "name": "stdout",
          "text": [
            "[1] TRUE\n"
          ]
        }
      ]
    },
    {
      "cell_type": "code",
      "source": [
        "print (a ==b)"
      ],
      "metadata": {
        "colab": {
          "base_uri": "https://localhost:8080/"
        },
        "id": "En902PoSiJ3r",
        "outputId": "2bd22bef-13de-4537-b635-ad600a25acbb"
      },
      "execution_count": null,
      "outputs": [
        {
          "output_type": "stream",
          "name": "stdout",
          "text": [
            "[1] FALSE\n"
          ]
        }
      ]
    },
    {
      "cell_type": "markdown",
      "source": [
        "create 30 formulars in r language\n",
        "create 10 different variables of your choice"
      ],
      "metadata": {
        "id": "tN4DA6RQjGyX"
      }
    }
  ]
}