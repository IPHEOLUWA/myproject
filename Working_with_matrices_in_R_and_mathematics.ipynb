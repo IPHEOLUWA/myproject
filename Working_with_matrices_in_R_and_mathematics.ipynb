{
  "cells": [
    {
      "cell_type": "markdown",
      "metadata": {
        "id": "view-in-github",
        "colab_type": "text"
      },
      "source": [
        "<a href=\"https://colab.research.google.com/github/IPHEOLUWA/myproject/blob/main/Working_with_matrices_in_R_and_mathematics.ipynb\" target=\"_parent\"><img src=\"https://colab.research.google.com/assets/colab-badge.svg\" alt=\"Open In Colab\"/></a>"
      ]
    },
    {
      "cell_type": "code",
      "execution_count": null,
      "metadata": {
        "colab": {
          "base_uri": "https://localhost:8080/"
        },
        "id": "-rGjrlXs5o0M",
        "outputId": "adcf1350-8d56-48f4-a3b1-cc1012b1c02c"
      },
      "outputs": [
        {
          "name": "stdout",
          "output_type": "stream",
          "text": [
            "     [,1] [,2]\n",
            "[1,]   20    5\n",
            "[2,]   40    6\n"
          ]
        }
      ],
      "source": [
        "A = matrix (c(20,40,5,6),nrow=2)\n",
        "print (A)"
      ]
    },
    {
      "cell_type": "code",
      "execution_count": null,
      "metadata": {
        "colab": {
          "background_save": true,
          "base_uri": "https://localhost:8080/"
        },
        "id": "sSGRiKoSwXUH",
        "outputId": "ab810b3d-f0f1-473c-e1ed-d4f1716db7f2"
      },
      "outputs": [
        {
          "name": "stdout",
          "output_type": "stream",
          "text": [
            "     [,1] [,2]\n",
            "[1,]   13   -4\n",
            "[2,]   32   -4\n"
          ]
        }
      ],
      "source": [
        "A = matrix (c(20,40,5,6),ncol=2)\n",
        "B = matrix (c(7,9,8,10),ncol=2)\n",
        "#print (B)\n",
        "C = A-B\n",
        "print (C)"
      ]
    },
    {
      "cell_type": "code",
      "source": [
        "A = matrix(c(20,40,5,6),nrow=2)\n",
        "print(A)"
      ],
      "metadata": {
        "colab": {
          "base_uri": "https://localhost:8080/"
        },
        "id": "O7eD9ghbf9eD",
        "outputId": "961d53e4-037b-4fd8-97eb-b1abba89033e"
      },
      "execution_count": null,
      "outputs": [
        {
          "output_type": "stream",
          "name": "stdout",
          "text": [
            "     [,1] [,2]\n",
            "[1,]   20    5\n",
            "[2,]   40    6\n"
          ]
        }
      ]
    }
  ],
  "metadata": {
    "colab": {
      "provenance": [],
      "authorship_tag": "ABX9TyPQMbcWoJhooPa7mwfOi0J3",
      "include_colab_link": true
    },
    "kernelspec": {
      "display_name": "R",
      "name": "ir"
    },
    "language_info": {
      "name": "R"
    }
  },
  "nbformat": 4,
  "nbformat_minor": 0
}