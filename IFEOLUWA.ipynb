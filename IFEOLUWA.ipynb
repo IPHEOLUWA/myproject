{
  "nbformat": 4,
  "nbformat_minor": 0,
  "metadata": {
    "colab": {
      "provenance": [],
      "include_colab_link": true
    },
    "kernelspec": {
      "name": "python3",
      "display_name": "Python 3"
    },
    "language_info": {
      "name": "python"
    }
  },
  "cells": [
    {
      "cell_type": "markdown",
      "metadata": {
        "id": "view-in-github",
        "colab_type": "text"
      },
      "source": [
        "<a href=\"https://colab.research.google.com/github/IPHEOLUWA/myproject/blob/main/IFEOLUWA.ipynb\" target=\"_parent\"><img src=\"https://colab.research.google.com/assets/colab-badge.svg\" alt=\"Open In Colab\"/></a>"
      ]
    },
    {
      "cell_type": "code",
      "execution_count": null,
      "metadata": {
        "colab": {
          "base_uri": "https://localhost:8080/"
        },
        "id": "WsDFBwdMSgwI",
        "outputId": "07c014d7-f83b-489c-deb9-2bfc0d331c8c"
      },
      "outputs": [
        {
          "output_type": "stream",
          "name": "stdout",
          "text": [
            "\n",
            "How are you?\n",
            "I am doing so fine\n",
            "\n",
            "\n",
            "\n",
            "Ife is a girl\n",
            "yes she is a girl\n",
            "\n",
            "The house is very big\n",
            "True\n",
            "32\n",
            "34.5\n",
            "This is my house\n",
            "False\n",
            "0\n",
            "1\n",
            "34\n",
            "32\n",
            "<class 'str'>\n"
          ]
        }
      ],
      "source": [
        "book = 32\n",
        "phone = 34.5\n",
        "whatisthis = True\n",
        "Areyougood = False\n",
        "sentence1 =\"This is my house\"\n",
        "sentence2 = 'The house is very big'\n",
        "sentence3 = \"\"\"\n",
        "How are you?\n",
        "I am doing so fine\n",
        "\n",
        "\"\"\"\n",
        "sentence4 = '''\n",
        "Ife is a girl\n",
        "yes she is a girl\n",
        "'''\n",
        "\n",
        "print(sentence3)\n",
        "print(sentence4)\n",
        "print(sentence2)\n",
        "print(whatisthis)\n",
        "print(book)\n",
        "print(phone)\n",
        "print(sentence1)\n",
        "print(Areyougood)\n",
        "print(int(Areyougood))\n",
        "print(int(whatisthis))\n",
        "print(int(phone))\n",
        "print(str(book))\n",
        "aa=(str(book))\n",
        "print(type(aa))\n"
      ]
    },
    {
      "cell_type": "code",
      "source": [],
      "metadata": {
        "id": "1kLBt70TWdcW"
      },
      "execution_count": null,
      "outputs": []
    },
    {
      "cell_type": "code",
      "source": [],
      "metadata": {
        "id": "EfKttgxPWege"
      },
      "execution_count": null,
      "outputs": []
    },
    {
      "cell_type": "code",
      "source": [
        "a = 20\n",
        "b = 40\n",
        "print(a*b)\n",
        "print(a/b)\n",
        "print(a+b)\n",
        "print(b-a)"
      ],
      "metadata": {
        "colab": {
          "base_uri": "https://localhost:8080/"
        },
        "id": "BjerewuMb1Yn",
        "outputId": "8ffddcdc-6868-4712-ae46-52120c45bf9a"
      },
      "execution_count": null,
      "outputs": [
        {
          "output_type": "stream",
          "name": "stdout",
          "text": [
            "800\n",
            "0.5\n",
            "60\n",
            "20\n"
          ]
        }
      ]
    },
    {
      "cell_type": "markdown",
      "source": [
        "Types of Operators\n",
        "plus(+)\n",
        "Multiplication (*)\n",
        "Divisi0n(/)\n",
        "Subtraction(-)"
      ],
      "metadata": {
        "id": "XRC5rb4sbYaJ"
      }
    },
    {
      "cell_type": "markdown",
      "source": [
        "ASSIGNMENT\n",
        ". For each datatypes, create 10 variables and print\n",
        ". Write python code for all the arithmetic operators"
      ],
      "metadata": {
        "id": "7uqakuIZcWRm"
      }
    },
    {
      "cell_type": "code",
      "source": [
        "food = [\"rice\",\"chicken\",\"beans\"]\n",
        "print(food)\n",
        "print(food[2])\n",
        "print(food[0:2])\n",
        "print(food[1:3])\n",
        "print(food[2:3])\n",
        "print(food[1:3])\n",
        "print(food[1:2])\n",
        "food.append(\"eba\")\n",
        "print(food)\n",
        "food.insert(1,\"plantain\")\n",
        "print(food)\n",
        "food[2] = \"pounded yam\"\n",
        "print(food)\n",
        "food[1:3] = [\"puf\",\"akara\"]\n",
        "print(food)\n",
        "food= [\"rice\",\"chicken\",\"beans\",\"akara\",\"eba\",\"plantain\"]\n",
        "print(food)\n",
        "food.pop(3)\n",
        "print(food)\n",
        "food.remove(\"chicken\")\n",
        "print(food)\n",
        "food= [\"rice\",\"chicken\",\"beans\",\"akara\",\"eba\",\"plantain\"]\n",
        "food[4] = \"Semo\"\n",
        "print(food)\n",
        "\n"
      ],
      "metadata": {
        "id": "Y1Oxzp-mdGZt",
        "colab": {
          "base_uri": "https://localhost:8080/"
        },
        "outputId": "a3744651-5162-491e-8cc9-aa37020871f0"
      },
      "execution_count": null,
      "outputs": [
        {
          "output_type": "stream",
          "name": "stdout",
          "text": [
            "['rice', 'chicken', 'beans']\n",
            "beans\n",
            "['rice', 'chicken']\n",
            "['chicken', 'beans']\n",
            "['beans']\n",
            "['chicken', 'beans']\n",
            "['chicken']\n",
            "['rice', 'chicken', 'beans', 'eba']\n",
            "['rice', 'plantain', 'chicken', 'beans', 'eba']\n",
            "['rice', 'plantain', 'pounded yam', 'beans', 'eba']\n",
            "['rice', 'puf', 'akara', 'beans', 'eba']\n",
            "['rice', 'chicken', 'beans', 'akara', 'eba', 'plantain']\n",
            "['rice', 'chicken', 'beans', 'eba', 'plantain']\n",
            "['rice', 'beans', 'eba', 'plantain']\n",
            "['rice', 'chicken', 'beans', 'akara', 'Semo', 'plantain']\n"
          ]
        }
      ]
    },
    {
      "cell_type": "code",
      "source": [
        "Things = [\"book\",\"blade\",\"cup\",\"biro\",\"cup\",\"phone\",\"cap\"]\n",
        "print(Things)\n",
        "print(Things[2])\n",
        "print(Things[0:2])\n",
        "print(Things[1:3])\n",
        "print(Things[2:3])\n",
        "print(Things[1:3])\n",
        "print(Things[1:2])\n",
        "Things.append(\"bead\")\n",
        "print(Things)\n",
        "Things.insert(1,\"cloth\")\n",
        "print(Things)\n",
        "Things[2] = \"pouch\"\n",
        "print(Things)\n",
        "Things[1:3] = [\"dress\",\"laptop\"]\n",
        "print(Things)\n",
        "Things.pop(3)\n",
        "print(Things)\n",
        "Things.remove(\"book\")\n",
        "print(Things)\n"
      ],
      "metadata": {
        "colab": {
          "base_uri": "https://localhost:8080/"
        },
        "id": "34PzOZuEcXpe",
        "outputId": "f7445390-481c-46cb-9b19-f2725585d421"
      },
      "execution_count": null,
      "outputs": [
        {
          "output_type": "stream",
          "name": "stdout",
          "text": [
            "['book', 'blade', 'cup', 'biro', 'cup', 'phone', 'cap']\n",
            "cup\n",
            "['book', 'blade']\n",
            "['blade', 'cup']\n",
            "['cup']\n",
            "['blade', 'cup']\n",
            "['blade']\n",
            "['book', 'blade', 'cup', 'biro', 'cup', 'phone', 'cap', 'bead']\n",
            "['book', 'cloth', 'blade', 'cup', 'biro', 'cup', 'phone', 'cap', 'bead']\n",
            "['book', 'cloth', 'pouch', 'cup', 'biro', 'cup', 'phone', 'cap', 'bead']\n",
            "['book', 'dress', 'laptop', 'cup', 'biro', 'cup', 'phone', 'cap', 'bead']\n",
            "['book', 'dress', 'laptop', 'biro', 'cup', 'phone', 'cap', 'bead']\n",
            "['dress', 'laptop', 'biro', 'cup', 'phone', 'cap', 'bead']\n"
          ]
        }
      ]
    },
    {
      "cell_type": "markdown",
      "source": [],
      "metadata": {
        "id": "SuJvLc7NdGzA"
      }
    },
    {
      "cell_type": "code",
      "source": [
        "states=['Imo','Abia','Enugu','Lagos','Delta','Ebonyi','Ondo']\n",
        "print(states)\n",
        "print(states[2:3])\n",
        "print(states[0:3])\n",
        "print(states[1:2])\n",
        "print(states[0:4])\n",
        "print(states[1:5])\n",
        "print(states[0:6])\n",
        "print(states[2:4])\n",
        "print(states[3:7])\n",
        "print(states[1:4])\n",
        "print(states[0:2])\n",
        "print(states[0:5])\n",
        "print(states[0:7])\n"
      ],
      "metadata": {
        "id": "7Y0xDyMkS6ne",
        "colab": {
          "base_uri": "https://localhost:8080/"
        },
        "outputId": "ac8e96fc-2610-4093-9e9b-d4288a460381"
      },
      "execution_count": null,
      "outputs": [
        {
          "output_type": "stream",
          "name": "stdout",
          "text": [
            "['Imo', 'Abia', 'Enugu', 'Lagos', 'Delta', 'Ebonyi', 'Ondo']\n",
            "['Enugu']\n",
            "['Imo', 'Abia', 'Enugu']\n",
            "['Abia']\n",
            "['Imo', 'Abia', 'Enugu', 'Lagos']\n",
            "['Abia', 'Enugu', 'Lagos', 'Delta']\n",
            "['Imo', 'Abia', 'Enugu', 'Lagos', 'Delta', 'Ebonyi']\n",
            "['Enugu', 'Lagos']\n",
            "['Lagos', 'Delta', 'Ebonyi', 'Ondo']\n",
            "['Abia', 'Enugu', 'Lagos']\n",
            "['Imo', 'Abia']\n",
            "['Imo', 'Abia', 'Enugu', 'Lagos', 'Delta']\n",
            "['Imo', 'Abia', 'Enugu', 'Lagos', 'Delta', 'Ebonyi', 'Ondo']\n"
          ]
        }
      ]
    },
    {
      "cell_type": "code",
      "source": [
        "# operators in python\n"
      ],
      "metadata": {
        "id": "6PXt5cvLomgL"
      },
      "execution_count": null,
      "outputs": []
    },
    {
      "cell_type": "code",
      "source": [
        "a=20\n",
        "b=30\n",
        "# greater\n",
        "print(a > b)\n",
        "print(a < b)\n",
        "print(a <= b)\n",
        "print(a >= b)\n",
        "print(a == b)\n",
        "\n",
        "# operator in\n",
        "\n",
        "food =[\"rice\",\"beans\",\"plantain\",\"amala\"]\n",
        "print(\"rice\" in food)\n",
        "print(\"eba\"in food)\n"
      ],
      "metadata": {
        "colab": {
          "base_uri": "https://localhost:8080/"
        },
        "id": "vokXGzJ6e8hz",
        "outputId": "db07db20-cc63-47c2-959e-dcc93180a518"
      },
      "execution_count": null,
      "outputs": [
        {
          "output_type": "stream",
          "name": "stdout",
          "text": [
            "False\n",
            "True\n",
            "True\n",
            "False\n",
            "False\n",
            "True\n",
            "False\n"
          ]
        }
      ]
    },
    {
      "cell_type": "code",
      "source": [
        "# not in operator\n",
        "food = [\"rice\",\"beans\",\"plantain\",\"amala\"]\n",
        "print(\"beans\" not in food)\n",
        "print(\"akara\" not in food)"
      ],
      "metadata": {
        "colab": {
          "base_uri": "https://localhost:8080/"
        },
        "id": "CWh6YjIsh-KN",
        "outputId": "62a41bf1-ea96-4bca-ac7b-10ec7b4192de"
      },
      "execution_count": null,
      "outputs": [
        {
          "output_type": "stream",
          "name": "stdout",
          "text": [
            "False\n",
            "True\n"
          ]
        }
      ]
    },
    {
      "cell_type": "markdown",
      "source": [
        "# IN is used to check for membership\n",
        "# is and is not is used to check datatype"
      ],
      "metadata": {
        "id": "7mEYZ22BhIIt"
      }
    },
    {
      "cell_type": "code",
      "source": [
        "# is operator is used to check datatype\n",
        "bb = 20\n",
        "cc = 30\n",
        "dd = 30\n",
        "print(bb is dd)\n",
        "print(cc is dd)"
      ],
      "metadata": {
        "colab": {
          "base_uri": "https://localhost:8080/"
        },
        "id": "Oe3COxjdi-EE",
        "outputId": "7b056b4d-5323-48b9-a863-df33e4fc1536"
      },
      "execution_count": null,
      "outputs": [
        {
          "output_type": "stream",
          "name": "stdout",
          "text": [
            "False\n",
            "True\n"
          ]
        }
      ]
    },
    {
      "cell_type": "code",
      "source": [
        "cc = \"30\"\n",
        "dd = 30\n",
        "print(cc is dd)"
      ],
      "metadata": {
        "colab": {
          "base_uri": "https://localhost:8080/"
        },
        "id": "o44lDP2fjbUR",
        "outputId": "04f9ed98-50ea-4770-9bd6-97e5b30f0907"
      },
      "execution_count": null,
      "outputs": [
        {
          "output_type": "stream",
          "name": "stdout",
          "text": [
            "False\n"
          ]
        }
      ]
    },
    {
      "cell_type": "code",
      "source": [
        "# is not operator is used to check datatype and equality\n",
        "aa = 20\n",
        "bb = \"This is me\"\n",
        "print(aa is not bb)"
      ],
      "metadata": {
        "colab": {
          "base_uri": "https://localhost:8080/"
        },
        "id": "kc3dShwKje4W",
        "outputId": "f709b359-9835-4cc7-9f52-e77943dae257"
      },
      "execution_count": null,
      "outputs": [
        {
          "output_type": "stream",
          "name": "stdout",
          "text": [
            "True\n"
          ]
        }
      ]
    },
    {
      "cell_type": "code",
      "source": [
        "a=50\n",
        "b=70\n",
        "# greater\n",
        "print(a > b)\n",
        "print(a < b)\n",
        "print(a <= b)\n",
        "print(a >= b)\n",
        "print(a == b)\n",
        "state = [\"abia\",\"kwara\",\"lagos\",\"bauchi\"]\n",
        "print(\"kwara\" not in state)\n",
        "print(\"oyo\" not in state)\n",
        "aa = \"kwara\"\n",
        "bb = \"lagos\"\n",
        "cc=\"kwara\"\n",
        "dd = 30\n",
        "print(bb is dd)\n",
        "print(aa is cc)\n",
        "print(aa is not dd)\n",
        "print(aa is not bb)"
      ],
      "metadata": {
        "colab": {
          "base_uri": "https://localhost:8080/"
        },
        "id": "eIQrD5oWkUeO",
        "outputId": "dd3ffd3e-7bdc-4ae9-adf4-b3a7bb8a843f"
      },
      "execution_count": null,
      "outputs": [
        {
          "output_type": "stream",
          "name": "stdout",
          "text": [
            "False\n",
            "True\n",
            "True\n",
            "False\n",
            "False\n",
            "False\n",
            "True\n",
            "False\n",
            "True\n",
            "True\n",
            "True\n"
          ]
        }
      ]
    },
    {
      "cell_type": "code",
      "source": [
        "# LOGICAL OPERATORS to combine two or more comparism statement\n",
        "# AND\n",
        "# OR\n",
        "# NOT\n",
        "\n",
        "\n"
      ],
      "metadata": {
        "id": "KyO1eGdSn6sz"
      },
      "execution_count": null,
      "outputs": []
    },
    {
      "cell_type": "code",
      "source": [
        "p= 20 < 10\n",
        "q= 30 > 15\n",
        "print(p and q)\n"
      ],
      "metadata": {
        "colab": {
          "base_uri": "https://localhost:8080/"
        },
        "id": "o_b18-n6pui4",
        "outputId": "7ec6b48d-8b50-4a52-cf2c-a95f2899062a"
      },
      "execution_count": null,
      "outputs": [
        {
          "output_type": "stream",
          "name": "stdout",
          "text": [
            "False\n"
          ]
        }
      ]
    },
    {
      "cell_type": "code",
      "source": [
        "p= 20 > 10\n",
        "q= 30 < 50\n",
        "print(p and q)"
      ],
      "metadata": {
        "colab": {
          "base_uri": "https://localhost:8080/"
        },
        "id": "JpygkdFVqTsI",
        "outputId": "8ae28eb9-aeda-47e3-f528-ee17542f5faa"
      },
      "execution_count": null,
      "outputs": [
        {
          "output_type": "stream",
          "name": "stdout",
          "text": [
            "True\n"
          ]
        }
      ]
    },
    {
      "cell_type": "code",
      "source": [
        "pp = 20\n",
        "qq = 30\n",
        "print(pp>10) and (qq == 30)"
      ],
      "metadata": {
        "colab": {
          "base_uri": "https://localhost:8080/"
        },
        "id": "JIMtDjIUqkt8",
        "outputId": "825f7cfc-31fc-462b-a06a-5ffb754b39a4"
      },
      "execution_count": null,
      "outputs": [
        {
          "output_type": "stream",
          "name": "stdout",
          "text": [
            "True\n"
          ]
        }
      ]
    },
    {
      "cell_type": "code",
      "source": [
        "# or if one is true all will be true\n",
        "aa = 20 > 10\n",
        "bb = 12 > 30\n",
        "print (aa or bb)"
      ],
      "metadata": {
        "colab": {
          "base_uri": "https://localhost:8080/"
        },
        "id": "oI_IATpmq2hm",
        "outputId": "19392ff0-ff99-4ecb-a0c7-cf54eba3b6f0"
      },
      "execution_count": null,
      "outputs": [
        {
          "output_type": "stream",
          "name": "stdout",
          "text": [
            "True\n"
          ]
        }
      ]
    },
    {
      "cell_type": "code",
      "source": [
        "# not statement (if it is not true it is false)\n",
        "aa = 20 > 10\n",
        "print(not aa)"
      ],
      "metadata": {
        "colab": {
          "base_uri": "https://localhost:8080/"
        },
        "id": "6ZRP_QAyrqcT",
        "outputId": "8e6c495d-005e-4f2f-8931-b7ba35848afc"
      },
      "execution_count": null,
      "outputs": [
        {
          "output_type": "stream",
          "name": "stdout",
          "text": [
            "False\n"
          ]
        }
      ]
    },
    {
      "cell_type": "markdown",
      "source": [
        "**WORKING WITH INPUT IN PYTHON**\n"
      ],
      "metadata": {
        "id": "0l_6r3PltTfU"
      }
    },
    {
      "cell_type": "code",
      "source": [],
      "metadata": {
        "id": "zJ9_Lz3MuAOx"
      },
      "execution_count": null,
      "outputs": []
    },
    {
      "cell_type": "code",
      "source": [
        "input (\"what is your name?\")"
      ],
      "metadata": {
        "colab": {
          "base_uri": "https://localhost:8080/",
          "height": 54
        },
        "id": "tQ2rAuygtcK3",
        "outputId": "8c5404b5-9119-4683-ceb1-5d7dcdde649b"
      },
      "execution_count": null,
      "outputs": [
        {
          "name": "stdout",
          "output_type": "stream",
          "text": [
            "what is your name?IFEOLUWA  \n"
          ]
        },
        {
          "output_type": "execute_result",
          "data": {
            "text/plain": [
              "'IFEOLUWA  '"
            ],
            "application/vnd.google.colaboratory.intrinsic+json": {
              "type": "string"
            }
          },
          "metadata": {},
          "execution_count": 32
        }
      ]
    },
    {
      "cell_type": "code",
      "source": [
        "pp = input (\"what is bmi status?\")\n",
        "print(pp)"
      ],
      "metadata": {
        "colab": {
          "base_uri": "https://localhost:8080/"
        },
        "id": "WZHoMxZguCUk",
        "outputId": "094198d3-3623-4594-9e2a-e4635ff67463"
      },
      "execution_count": null,
      "outputs": [
        {
          "output_type": "stream",
          "name": "stdout",
          "text": [
            "what is bmi status?healthy\n",
            "healthy\n"
          ]
        }
      ]
    },
    {
      "cell_type": "code",
      "source": [
        "first = float(input(\"Enter your first number\"))\n",
        "second = float(input(\"Enter your second number\"))\n",
        "sum = first + second\n",
        "print (sum)"
      ],
      "metadata": {
        "id": "u8sHSxtaulzv",
        "colab": {
          "base_uri": "https://localhost:8080/"
        },
        "outputId": "668ff544-fd82-4219-b78e-41b3b65a8381"
      },
      "execution_count": null,
      "outputs": [
        {
          "output_type": "stream",
          "name": "stdout",
          "text": [
            "Enter your first number70\n",
            "Enter your second number50\n",
            "120.0\n"
          ]
        }
      ]
    },
    {
      "cell_type": "code",
      "source": [
        "first = float(input(\"Enter your test score\"))\n",
        "second = float(input(\"Enter your exam score\"))\n",
        "sum = first + second\n",
        "print (sum)"
      ],
      "metadata": {
        "id": "rkZeoR_Avo7a",
        "colab": {
          "base_uri": "https://localhost:8080/"
        },
        "outputId": "4ad5f48e-d616-40ed-bd26-2bf951565b53"
      },
      "execution_count": null,
      "outputs": [
        {
          "output_type": "stream",
          "name": "stdout",
          "text": [
            "Enter your test score30\n",
            "Enter your exam score70\n",
            "100.0\n"
          ]
        }
      ]
    },
    {
      "cell_type": "code",
      "source": [
        "# ASSIGNMENT\n",
        "# CREATE A BMI CALCULATOR\n",
        "# CREATE A SIMPLE ARITHMETIC CALCULATOR\n",
        "# PICK ANY 10 MATHEMATICS FORMULARS FOR CODE WRITEUP\n",
        "# PERFORM ANY OPERATIONS USING INPUT"
      ],
      "metadata": {
        "id": "LjsCBhH6xcf2"
      },
      "execution_count": null,
      "outputs": []
    },
    {
      "cell_type": "code",
      "source": [
        "# BMI CALCULATOR\n",
        "weight= float(input(\"Enter your weight in kg\"))\n",
        "height= float(input(\"Enter your height in cm\"))\n",
        "BMI = (weight/(height/100)**2)\n",
        "print(BMI)"
      ],
      "metadata": {
        "colab": {
          "base_uri": "https://localhost:8080/"
        },
        "id": "CLM2qbf2sKF9",
        "outputId": "9a1b9f8b-56a6-4fb3-e148-e8198b645328"
      },
      "execution_count": null,
      "outputs": [
        {
          "output_type": "stream",
          "name": "stdout",
          "text": [
            "Enter your weight in kg70\n",
            "Enter your height in cm5.7\n",
            "21545.09079716836\n"
          ]
        }
      ]
    },
    {
      "cell_type": "markdown",
      "source": [
        "  ASSIGNMENT\n",
        "* CREATE A BMI CALCULATOR\n",
        "* CREATE A SIMPLE ARITHMETIC CALCULATOR\n",
        "* PICK ANY 10 MATHEMATICS FORMULARS FOR CODE WRITEUP\n",
        "* PERFORM ANY OPERATIONS USING INPUT"
      ],
      "metadata": {
        "id": "DjBPrurTxdEm"
      }
    },
    {
      "cell_type": "code",
      "source": [
        "# BMI CALCULATOR\n",
        "weight= float(input(\" Enter your weight in kg \"))\n",
        "height= float(input(\" Enter your height in cm \"))\n",
        "BMI = (weight/(height/100)**2)\n",
        "print(BMI)"
      ],
      "metadata": {
        "colab": {
          "base_uri": "https://localhost:8080/"
        },
        "id": "l8ZRzrWEwd8O",
        "outputId": "c54ddafd-ad2b-402a-f5b5-baaae6ed7150"
      },
      "execution_count": null,
      "outputs": [
        {
          "output_type": "stream",
          "name": "stdout",
          "text": [
            " Enter your weight in kg 88\n",
            " Enter your height in cm 5.5\n",
            "29090.909090909092\n"
          ]
        }
      ]
    },
    {
      "cell_type": "code",
      "source": [
        "\n",
        "# Simple Arithmetic Calculator\n",
        "\n",
        "# Step 1: Get input from the user\n",
        "num1 = float(input(\"Enter the first number: \"))\n",
        "num2 = float(input(\"Enter the second number: \"))\n",
        "\n",
        "# Step 2: Ask for the operation\n",
        "operation = input(\"Enter the operation (+, -, *, /): \")\n",
        "\n",
        "# Step 3: Perform the chosen operation\n",
        "if operation == '+':\n",
        "    result = num1 + num2\n",
        "elif operation == '-':\n",
        "    result = num1 - num2\n",
        "elif operation == '*':\n",
        "    result = num1 * num2\n",
        "elif operation == '/':\n",
        "    if num2 != 0:\n",
        "        result = num1 / num2\n",
        "    else:\n",
        "        result = \"Error! Cannot divide by zero.\"\n",
        "else:\n",
        "    result = \"Invalid operation\"\n",
        "\n",
        "# Step 4: Display the result\n",
        "print(\"The result is:\", result)\n",
        "\n",
        "\n"
      ],
      "metadata": {
        "colab": {
          "base_uri": "https://localhost:8080/"
        },
        "id": "XBs5mDbvBRk8",
        "outputId": "721307c7-fd1d-4b13-ae7e-c4bd6f847438"
      },
      "execution_count": null,
      "outputs": [
        {
          "output_type": "stream",
          "name": "stdout",
          "text": [
            "Enter the first number: 32\n",
            "Enter the second number: 2\n",
            "Enter the operation (+, -, *, /): +\n",
            "The result is: 34.0\n"
          ]
        }
      ]
    },
    {
      "cell_type": "code",
      "source": [
        "# PICK ANY 10 MATHEMATICS FORMULARS FOR CODE WRITEUP\n",
        "\n",
        "# AREA OF A CIRCLE\n",
        "pi = 3.14\n",
        "radius = float(input(\"Enter the radius of the circle: \"))\n",
        "area = pi * radius ** 2\n",
        "print(\"The area of the circle is:\", area)\n",
        "\n",
        "\n"
      ],
      "metadata": {
        "colab": {
          "base_uri": "https://localhost:8080/"
        },
        "id": "gAS9X5zHJjjD",
        "outputId": "0399298d-542d-4f3a-884b-84f16cfa428f"
      },
      "execution_count": null,
      "outputs": [
        {
          "output_type": "stream",
          "name": "stdout",
          "text": [
            "Enter the radius of the circle: 4\n",
            "The area of the circle is: 50.24\n"
          ]
        }
      ]
    },
    {
      "cell_type": "code",
      "source": [
        "# perimeter_of_rectangle\n",
        "length = float (input(\"Enter the length of the rectangle: \"))\n",
        "width = float (input(\"Enter the width of the rectangle: \"))\n",
        "perimeter = 2 * (length + width)\n",
        "print(\"The perimeter of the rectangle is:\", perimeter)\n",
        "\n",
        "\n",
        "\n"
      ],
      "metadata": {
        "colab": {
          "base_uri": "https://localhost:8080/"
        },
        "id": "dAoVa81mJ7jg",
        "outputId": "e2a1717c-8eb3-4d69-f5d7-04692fc2d199"
      },
      "execution_count": null,
      "outputs": [
        {
          "output_type": "stream",
          "name": "stdout",
          "text": [
            "Enter the length of the rectangle: 5\n",
            "Enter the width of the rectangle: 2\n",
            "The perimeter of the rectangle is: 14.0\n"
          ]
        }
      ]
    },
    {
      "cell_type": "code",
      "source": [
        "# simple_interest(principal, rate, time):\n",
        "principal = float(input(\"Enter the principal amount: \"))\n",
        "rate = float(input(\"Enter the interest rate: \"))\n",
        "time = float(input(\"Enter the time period (in years): \"))\n",
        "\n",
        "interest = (principal * rate * time) / 100\n",
        "\n",
        "print(\"The simple interest is:\", interest)"
      ],
      "metadata": {
        "colab": {
          "base_uri": "https://localhost:8080/"
        },
        "id": "jGHgsXDzKLaC",
        "outputId": "513251a6-920f-421b-d1f8-f3f6b952f83d"
      },
      "execution_count": null,
      "outputs": [
        {
          "output_type": "stream",
          "name": "stdout",
          "text": [
            "Enter the principal amount: 100\n",
            "Enter the interest rate: 20\n",
            "Enter the time period (in years): 4\n",
            "The simple interest is: 80.0\n"
          ]
        }
      ]
    },
    {
      "cell_type": "code",
      "source": [
        "\n",
        "# volume_of_cylinder\n",
        "pi = 3.14\n",
        "radius = float(input(\"Enter the radius of the cylinder;\"))\n",
        "height = float(input(\"Enter the height of the cylinder:\"))\n",
        "volume = pi * radius ** 2 * height\n",
        "print(\"The volume of the cylinder is:\", volume)\n"
      ],
      "metadata": {
        "colab": {
          "base_uri": "https://localhost:8080/"
        },
        "id": "yOQPCASNKK1C",
        "outputId": "60d347e8-df94-450a-94c9-5fa931a160b0"
      },
      "execution_count": null,
      "outputs": [
        {
          "output_type": "stream",
          "name": "stdout",
          "text": [
            "Enter the radius of the cylinder;7\n",
            "Enter the height of the cylinder:8\n",
            "The volume of the cylinder is: 1230.88\n"
          ]
        }
      ]
    },
    {
      "cell_type": "code",
      "source": [
        "# area_of_rectangle\n",
        "Lengh = 30\n",
        "width = 2\n",
        "Area = Lengh * width\n",
        "print(Area)\n"
      ],
      "metadata": {
        "colab": {
          "base_uri": "https://localhost:8080/"
        },
        "id": "2DJFDxnkKtAT",
        "outputId": "fcbbd8a0-c750-416e-e455-3b33eae9f0a1"
      },
      "execution_count": null,
      "outputs": [
        {
          "output_type": "stream",
          "name": "stdout",
          "text": [
            "60\n"
          ]
        }
      ]
    },
    {
      "cell_type": "code",
      "source": [
        "#  PERFORM ANY OPERATIONS USING INPUT\n",
        "\n",
        "\n",
        "num1 = float(input(\"Enter the first number: \"))\n",
        "num2 = float(input(\"Enter the second number: \"))\n",
        "result = num1 + num2\n",
        "\n",
        "print(\"The result of the addition is:\", result)\n"
      ],
      "metadata": {
        "colab": {
          "base_uri": "https://localhost:8080/"
        },
        "id": "5458aWDFLS-R",
        "outputId": "4fdd2f03-2302-49ef-a888-d382b59ea1a4"
      },
      "execution_count": null,
      "outputs": [
        {
          "output_type": "stream",
          "name": "stdout",
          "text": [
            "Enter the first number: 50\n",
            "Enter the second number: 40\n",
            "The result of the addition is: 90.0\n"
          ]
        }
      ]
    },
    {
      "cell_type": "code",
      "source": [
        "#control statement in python\n",
        "# SYNTAX IF(condition)\n",
        "#task to be executed\n",
        "\n",
        "\n",
        "#multiple statement\n",
        "#if (condition1)\n",
        "#task to be executed if condition 1 is true\n",
        "#elif (condition2)\n",
        "#task to be executed (condition2) is true but (condition1) is false\n",
        "#else task to be executed if condition1 and condition2 is true\n",
        "\n"
      ],
      "metadata": {
        "id": "zJpIIuXv6qR1"
      },
      "execution_count": null,
      "outputs": []
    },
    {
      "cell_type": "code",
      "source": [
        "a=[20,40,50]\n",
        "if(20 in a):\n",
        " print('it is there')"
      ],
      "metadata": {
        "colab": {
          "base_uri": "https://localhost:8080/"
        },
        "id": "TTDi0xDP61hB",
        "outputId": "7ca76ef3-88bc-4f4b-dad2-d00d1ac327ca"
      },
      "execution_count": null,
      "outputs": [
        {
          "output_type": "stream",
          "name": "stdout",
          "text": [
            "it is there\n"
          ]
        }
      ]
    },
    {
      "cell_type": "code",
      "source": [
        "a=[20,40,50]\n",
        "if(20 in a):\n",
        " print('it is there')\n",
        "else:\n",
        " print('it is not there')"
      ],
      "metadata": {
        "colab": {
          "base_uri": "https://localhost:8080/"
        },
        "id": "cPhp0VKJ7GP1",
        "outputId": "7f332b18-02d3-4b83-e809-dbc143a2d363"
      },
      "execution_count": null,
      "outputs": [
        {
          "output_type": "stream",
          "name": "stdout",
          "text": [
            "it is there\n"
          ]
        }
      ]
    },
    {
      "cell_type": "code",
      "source": [
        "if(20 in a):\n",
        "     print(\"20 is in a\")\n",
        "elif(40 in a):\n",
        "    print(\"30 is in a\")\n",
        "elif(60 in a):\n",
        "   print('60 is in a')\n",
        "else:\n",
        "   print (\"something is wrong\")"
      ],
      "metadata": {
        "colab": {
          "base_uri": "https://localhost:8080/"
        },
        "id": "yHWVfkiU7Nnd",
        "outputId": "254b8fbf-9d96-4c62-f738-e697d3d6a6e1"
      },
      "execution_count": null,
      "outputs": [
        {
          "output_type": "stream",
          "name": "stdout",
          "text": [
            "20 is in a\n"
          ]
        }
      ]
    },
    {
      "cell_type": "code",
      "source": [
        "s=[100,200,300,400,700]\n",
        "if(200 in s):\n",
        "     print(\"200 is in s\")\n",
        "elif(400 in s):\n",
        "    print(\"300 is in a\")\n",
        "elif(600 in s):\n",
        "   print('600 is in a')\n",
        "else:\n",
        "   print (\"something is wrong\")"
      ],
      "metadata": {
        "colab": {
          "base_uri": "https://localhost:8080/"
        },
        "id": "9fFby97Q7YUc",
        "outputId": "55c5de79-6ff2-4223-cee5-a16fa8513821"
      },
      "execution_count": null,
      "outputs": [
        {
          "output_type": "stream",
          "name": "stdout",
          "text": [
            "200 is in s\n"
          ]
        }
      ]
    },
    {
      "cell_type": "code",
      "source": [
        "s=[100,300,400,600,700]\n",
        "if(200 in s):\n",
        "     print(\"200 is in s\")\n",
        "elif(400 in s):\n",
        "    print(\"300 is in a\")\n",
        "elif(600 in s):\n",
        "   print('600 is in a')\n",
        "else:\n",
        "   print (\"something is wrong\")"
      ],
      "metadata": {
        "colab": {
          "base_uri": "https://localhost:8080/"
        },
        "id": "j1RPonBD7bXy",
        "outputId": "f266ccd0-18a4-4356-ad43-a3402f4f8a0a"
      },
      "execution_count": null,
      "outputs": [
        {
          "output_type": "stream",
          "name": "stdout",
          "text": [
            "300 is in a\n"
          ]
        }
      ]
    },
    {
      "cell_type": "code",
      "source": [
        "s=[120,210,310,450,670,770]\n",
        "if(200 in s):\n",
        "     print(\"200 is in s\")\n",
        "elif(400 in s):\n",
        "    print(\"300 is in a\")\n",
        "elif(600 in s):\n",
        "   print('600 is in a')\n",
        "else:\n",
        "   print (\"something is wrong\")"
      ],
      "metadata": {
        "colab": {
          "base_uri": "https://localhost:8080/"
        },
        "id": "Dv3HCvJ77hU8",
        "outputId": "1e218880-4721-4524-9edb-0839cf707698"
      },
      "execution_count": null,
      "outputs": [
        {
          "output_type": "stream",
          "name": "stdout",
          "text": [
            "something is wrong\n"
          ]
        }
      ]
    },
    {
      "cell_type": "code",
      "source": [
        "# Function to calculate BMI and determine status\n",
        "def bmi_status(weight, height):\n",
        "    # Calculate BMI\n",
        "    bmi = weight / (height ** 2)\n",
        "\n",
        "    # Determine BMI status using if-elif conditions\n",
        "    if bmi < 18.5:\n",
        "        status = \"Underweight\"\n",
        "    elif 18.5 <= bmi < 24.9:\n",
        "        status = \"Normal weight\"\n",
        "    elif 25 <= bmi < 29.9:\n",
        "        status = \"Overweight\"\n",
        "    elif 30 <= bmi < 34.9:4\n",
        "\n",
        "    else:\n",
        "        print = \"Obese\"\n",
        "\n",
        "    return bmi, status\n",
        "\n",
        "# Example usage\n",
        "weight = float(input(\"Enter your weight in kg: \"))\n",
        "height = float(input(\"Enter your height in meters: \"))\n",
        "\n",
        "bmi, status = bmi_status(weight, height)\n",
        "print(f\"Your BMI is {bmi:.2f} and your status is: {status}\")\n"
      ],
      "metadata": {
        "colab": {
          "base_uri": "https://localhost:8080/"
        },
        "id": "x37yVw6lFnWA",
        "outputId": "bef3e6e1-d893-4991-ae24-61e824abe255"
      },
      "execution_count": null,
      "outputs": [
        {
          "output_type": "stream",
          "name": "stdout",
          "text": [
            "Enter your weight in kg: 300\n",
            "Enter your height in meters: 4\n",
            "Your BMI is 18.75 and your status is: Normal weight\n"
          ]
        }
      ]
    },
    {
      "cell_type": "markdown",
      "source": [
        "CLASS ON 9TH SEP. 2024\n",
        "            Intro. to sampling in statistic\n",
        "            Types of data in statistic\n",
        "            Intro. to mean distributions and propotion distributions in statistic\n",
        "            Working with control statement in paython\n",
        "            Methods of collecting data in python from MONGODB\n",
        "            Worked example\n",
        "            exercise\n",
        "            others\n",
        "\n",
        "                            TYPES OF DATA IN STASTISTIC\n",
        "     (1)   DISCRETE DATA\n",
        "             a. Norminal Data===> for grouping\n",
        "             b.Ordinal Data ===> for Ranking\n",
        "\n",
        "      (2)      CONTINIOUS DATA\n",
        "              a.interval\n",
        "              b. ratio\n",
        "\n",
        "                   TYPES OF SAMPLING TECHNIQUE\n",
        "        * Random sampling ===>everyone is given equall chance of being selected\n",
        "        * Stratefy sampling ===> the sample are being taken from various groups\n",
        "        *\n",
        "            \n",
        "                                   TYPES HYPOTHESIS\n",
        "             NULL HYPOTHESIS (Ho)===> is a statement of no significant effect/difference  \n",
        "              eg.   there is no  effect on the patience health when a med. is applied and when not applied\n",
        "              ALTERNATIVE HYPOTHESIS(H1)===> is a statement of significant difference/effect\n",
        "\n",
        "            (WE DO NOT REJECT THE NULL HYPOTHESIS)\n",
        "            (WE REJECT THE NULL HYPOTHESIS)\n",
        "\n",
        "                                  TYPES OF ERRORS IN HYPOTHESIS\n",
        "\n",
        "\n",
        "             * TYPE 1 ERROR: when a user rejects a (TRUE) NULL HYPOTHESIS\n",
        "             * TYPE 2 ERROR:when a user fail rejects a (FALSE) NULL HYPOTHESIS\n",
        "            \n",
        "\n",
        "                            LEVEL SIGNIFICANCE\n",
        "           Is the degree of measurement at which we reject a NULL HYPOTHESIS\n",
        "           If the P.value is less than the LEVEL OF SIGNIFICANCE  we reject the NULL HYPOTHESIS"
      ],
      "metadata": {
        "id": "NpzwvPpAHBSA"
      }
    },
    {
      "cell_type": "code",
      "source": [
        "# CLASS ON 9TH SEP. 2024\n",
        "            Intro. to sampling in statistic\n",
        "            Types of data in statistic\n",
        "            Intro. to mean distributions and propotion distributions in statistic\n",
        "            Working with control statement in paython\n",
        "            Methods of collecting data in python from MONGODB\n",
        "            Worked example\n",
        "            exercise\n",
        "            others\n",
        "\n",
        "                            # TYPES OF DATA IN STASTISTIC\n",
        "(1)  # DISCRETE DATA\n",
        "    # a. Norminal Data===> for grouping is used for naming no ranking properties\n",
        "    # b.Ordinal Data ===> for Ranking\n",
        "\n",
        "(2)      # CONTINIOUS DATA\n",
        "              # a.interval\n",
        "             # b. ratio\n",
        "\n",
        "                   # TYPES OF SAMPLING TECHNIQUE\n",
        "        # Random sampling ===>everyone is given equall chance of being selected\n",
        "        # Stratefy sampling ===> the sample are being taken from various groups\n",
        "        # HYPOTHEsIS is a statement of guess from observation\n",
        "\n",
        "                      # TYPES HYPOTHESIS\n",
        "  # NULL HYPOTHESIS (Ho)===> is a statement of no significant effect/difference\n",
        "  eg.   there is no  effect on the patience health when a med. is applied and when not applied\n",
        "  # ALTERNATIVE HYPOTHESIS(H1)===> is a statement of significant difference/effect\n",
        "\n",
        "    (WE DO NOT REJECT THE NULL HYPOTHESIS)\n",
        "    (WE REJECT THE NULL HYPOTHESIS)\n",
        "\n",
        "          # TYPES OF ERRORS IN HYPOTHESIS\n",
        "\n",
        "\n",
        " * TYPE 1 ERROR: when a user rejects a (TRUE) NULL HYPOTHESIS\n",
        "* TYPE 2 ERROR:when a user fail rejects a (FALSE) NULL HYPOTHESIS\n",
        "\n",
        "\n",
        "                           # LEVEL OF SIGNIFICANCE\n",
        "# Is the degree of measurement at which we reject a NULL HYPOTHESIS\n",
        "# If the P.value is less than the LEVEL OF SIGNIFICANCE  we reject the NULL HYPOTHESIS\n",
        "\n",
        "# Modules are series of files ( they are series of code in a python file)\n",
        "# TYPE OF MODULES\n",
        "internal module (inbuilt module)\n",
        "Extenal modules\n",
        "custom modules\n",
        "# INBULIT module are series of code that comes with python software itself\n",
        "# EXTERNAL are modules that doesnot come from python software they are from external software or external files\n",
        "# we use !PIP install (name of module)\n",
        "# ! is used for install in google collab\n",
        "# custom module is self made module\n",
        "\n",
        "# How to import\n",
        "* import name of file  (import pymongo)\n",
        "* by funtion (from pymongo import MongoClient)\n",
        "* by renaming (import pymongo as py)\n"
      ],
      "metadata": {
        "id": "hR10H3X1IT1L"
      },
      "execution_count": null,
      "outputs": []
    },
    {
      "cell_type": "code",
      "source": [
        "!pip install pymongo"
      ],
      "metadata": {
        "colab": {
          "base_uri": "https://localhost:8080/"
        },
        "collapsed": true,
        "id": "xGbA9nm2HOVH",
        "outputId": "73695446-bd90-4393-89aa-16567a80bc62"
      },
      "execution_count": null,
      "outputs": [
        {
          "output_type": "stream",
          "name": "stdout",
          "text": [
            "Collecting pymongo\n",
            "  Downloading pymongo-4.8.0-cp310-cp310-manylinux_2_17_x86_64.manylinux2014_x86_64.whl.metadata (22 kB)\n",
            "Collecting dnspython<3.0.0,>=1.16.0 (from pymongo)\n",
            "  Downloading dnspython-2.6.1-py3-none-any.whl.metadata (5.8 kB)\n",
            "Downloading pymongo-4.8.0-cp310-cp310-manylinux_2_17_x86_64.manylinux2014_x86_64.whl (1.2 MB)\n",
            "\u001b[2K   \u001b[90m━━━━━━━━━━━━━━━━━━━━━━━━━━━━━━━━━━━━━━━━\u001b[0m \u001b[32m1.2/1.2 MB\u001b[0m \u001b[31m24.3 MB/s\u001b[0m eta \u001b[36m0:00:00\u001b[0m\n",
            "\u001b[?25hDownloading dnspython-2.6.1-py3-none-any.whl (307 kB)\n",
            "\u001b[2K   \u001b[90m━━━━━━━━━━━━━━━━━━━━━━━━━━━━━━━━━━━━━━━━\u001b[0m \u001b[32m307.7/307.7 kB\u001b[0m \u001b[31m12.4 MB/s\u001b[0m eta \u001b[36m0:00:00\u001b[0m\n",
            "\u001b[?25hInstalling collected packages: dnspython, pymongo\n",
            "Successfully installed dnspython-2.6.1 pymongo-4.8.0\n"
          ]
        }
      ]
    },
    {
      "cell_type": "code",
      "source": [
        "from pymongo import MongoClient"
      ],
      "metadata": {
        "id": "9pKvvhCdRNtV"
      },
      "execution_count": null,
      "outputs": []
    },
    {
      "cell_type": "code",
      "source": [
        "# LOOPS IN PYTHON\n",
        "# Loops is used to repeat a task multiple times\n",
        "# TWO POPULAR TYPES OF LOOP\n",
        "# FOR LOOP\n",
        "# for  anyname in group\n",
        "# task to be repeated\n",
        "gg=[20,30,40,50]\n",
        "for a in gg:\n",
        "#  print(a) (Task)\n",
        "#  a is anyname in group\n",
        "#  gg is group\n",
        "#  print(a) is task to be repeated\n",
        "# WHILE LOOP"
      ],
      "metadata": {
        "id": "QQo8GL0nQGpd"
      },
      "execution_count": null,
      "outputs": []
    },
    {
      "cell_type": "code",
      "source": [
        "sum = 0\n",
        "for i in range(1,11):\n",
        "  sum = sum + i\n",
        "print(sum)"
      ],
      "metadata": {
        "colab": {
          "base_uri": "https://localhost:8080/"
        },
        "id": "KKikM3LGTx-_",
        "outputId": "9379cff0-4678-4b2d-e74f-2460cfc4924b"
      },
      "execution_count": null,
      "outputs": [
        {
          "output_type": "stream",
          "name": "stdout",
          "text": [
            "55\n"
          ]
        }
      ]
    },
    {
      "cell_type": "code",
      "source": [
        "gg = [20,30,40,50]\n",
        "for b in gg:\n",
        "  print(b)\n",
        "\n"
      ],
      "metadata": {
        "colab": {
          "base_uri": "https://localhost:8080/"
        },
        "id": "KkHzgzVIWFvn",
        "outputId": "e3d7cb3a-0870-4aea-9e8c-167948d097eb"
      },
      "execution_count": null,
      "outputs": [
        {
          "output_type": "stream",
          "name": "stdout",
          "text": [
            "20\n",
            "30\n",
            "40\n",
            "50\n"
          ]
        }
      ]
    },
    {
      "cell_type": "code",
      "source": [
        "# WHILE LOOP\n",
        "# while(condition):\n",
        "# task to be repeated\n",
        "\n",
        "# while loop is more advance and dynamic than for loop\n",
        "# while loop can give infinite loop (infinite numbers of time)\n",
        "# To stop it from running infinity we add +1\n",
        "\n",
        "pp = 1\n",
        "while(pp<10):\n",
        "  print(pp)\n",
        "  pp = pp + 1"
      ],
      "metadata": {
        "colab": {
          "base_uri": "https://localhost:8080/"
        },
        "id": "z8dpQn0FXwTr",
        "outputId": "43d160b0-6cea-4d78-ae9f-416b65ad963a"
      },
      "execution_count": null,
      "outputs": [
        {
          "output_type": "stream",
          "name": "stdout",
          "text": [
            "1\n",
            "2\n",
            "3\n",
            "4\n",
            "5\n",
            "6\n",
            "7\n",
            "8\n",
            "9\n"
          ]
        }
      ]
    },
    {
      "cell_type": "code",
      "source": [
        "INTERVIEW =[\"what is your name?\",\"what gender are you?\",\"which state are you from?\",\"are you married?\",\"what is your job qualification?\",\"years of experience?\",\"where do you stay?\",\"what value are you bringing?\",\"what is our company core value?\",\"on a scale of 1-10 how good are you with microsoft package?\"]\n",
        "for questions in INTERVIEW:\n",
        "  print(questions)"
      ],
      "metadata": {
        "colab": {
          "base_uri": "https://localhost:8080/"
        },
        "id": "fyrcGL_4aa6F",
        "outputId": "d1ced18c-5155-4e47-f03f-1ac2824bee9e"
      },
      "execution_count": null,
      "outputs": [
        {
          "output_type": "stream",
          "name": "stdout",
          "text": [
            "what is your name?\n",
            "what gender are you?\n",
            "which state are you from?\n",
            "are you married?\n",
            "what is your job qualification?\n",
            "years of experience?\n",
            "where do you stay?\n",
            "what value are you bringing?\n",
            "what is our company core value?\n",
            "on a scale of 1-10 how good are you with microsoft package?\n"
          ]
        }
      ]
    },
    {
      "cell_type": "code",
      "source": [
        "# numpy\n",
        "!pip install numpy"
      ],
      "metadata": {
        "colab": {
          "base_uri": "https://localhost:8080/"
        },
        "id": "ugqeBEsNeIUD",
        "outputId": "21b1a546-6d51-46ab-90cc-b71d547941a9"
      },
      "execution_count": null,
      "outputs": [
        {
          "output_type": "stream",
          "name": "stdout",
          "text": [
            "Requirement already satisfied: numpy in /usr/local/lib/python3.10/dist-packages (1.26.4)\n"
          ]
        }
      ]
    },
    {
      "cell_type": "code",
      "source": [
        "import numpy as np\n"
      ],
      "metadata": {
        "id": "9pCKIvDie9xk"
      },
      "execution_count": null,
      "outputs": []
    },
    {
      "cell_type": "markdown",
      "source": [
        "# CALCULATING MEAN AND VARIANE USING NUMPY\n"
      ],
      "metadata": {
        "id": "NCNldrkTgp8Z"
      }
    },
    {
      "cell_type": "code",
      "source": [
        "data = np.array([20,30,50,80,])\n",
        "print(data)\n",
        "print(f\"The median is {np.median(data)}\")\n",
        "print(f\"The mean is {np.mean(data)}\")\n",
        "# print(np.mean(data))\n",
        "print(f\"The variance is {np.var(data)}\")\n",
        "print(f\"The standard variation is {np.std(data)}\")\n",
        "print(f\"The square root of 4is {np.sqrt(4)}\")\n",
        "a=np.sqrt(4)\n",
        "print(a)\n",
        "b=np.std(data)\n",
        "print(b)\n",
        "standard_error = b/a\n",
        "print(standard_error)\n",
        "\n",
        "\n"
      ],
      "metadata": {
        "colab": {
          "base_uri": "https://localhost:8080/"
        },
        "id": "Ks5jI3cpgr8i",
        "outputId": "a2c817d7-213d-40ee-95b3-2de201463b68"
      },
      "execution_count": null,
      "outputs": [
        {
          "output_type": "stream",
          "name": "stdout",
          "text": [
            "[20 30 50 80]\n",
            "The median is 40.0\n",
            "The mean is 45.0\n",
            "The variance is 525.0\n",
            "The standard variation is 22.9128784747792\n",
            "The square root of 4is 2.0\n",
            "2.0\n",
            "22.9128784747792\n",
            "11.4564392373896\n"
          ]
        }
      ]
    },
    {
      "cell_type": "code",
      "source": [
        "data = np.array([20,20,30,30,40,50])\n",
        "print(data)\n",
        "print(f\"The median is {np.median(data)}\")\n",
        "print(f\"The mean is {np.mean(data)}\")\n",
        "# print(np.mean(data))\n",
        "print(f\"The variance is {np.var(data)}\")\n",
        "print(f\"The standard variation is {np.std(data)}\")\n",
        "print(f\"The square root of 6 is {np.sqrt(6)}\")\n",
        "c=np.sqrt(6)\n",
        "print(c)\n",
        "d=np.std(data)\n",
        "print(d)\n",
        "standard_error = d/c\n",
        "print(standard_error)\n",
        "\n",
        "\n"
      ],
      "metadata": {
        "colab": {
          "base_uri": "https://localhost:8080/"
        },
        "id": "I_C8mNZtkrZy",
        "outputId": "cc403f02-affa-4773-ad1c-41bd5abf5fb5"
      },
      "execution_count": null,
      "outputs": [
        {
          "output_type": "stream",
          "name": "stdout",
          "text": [
            "[20 20 30 30 40 50]\n",
            "The median is 30.0\n",
            "The mean is 31.666666666666668\n",
            "The variance is 113.8888888888889\n",
            "The standard variation is 10.671873729054749\n",
            "The square root of 6 is 2.449489742783178\n",
            "2.449489742783178\n",
            "10.671873729054749\n",
            "4.356774205932813\n"
          ]
        }
      ]
    },
    {
      "cell_type": "code",
      "source": [
        "sample1 = np.array([20,30,40,50,60,70])\n",
        "sample2 = np.array([10,20,30,40,80,100])\n",
        "sample3 = np.array([20,100,50,70,150,200])\n",
        "\n",
        "mean1 = np.mean(sample1)\n",
        "mean2 = np.mean(sample2)\n",
        "mean3 = np.mean(sample3)\n",
        "\n",
        "grandsample = [mean1,mean2,mean3]\n",
        "grandmean = np.mean(grandsample)\n",
        "grandvariance = np.var(grandsample)\n",
        "grandstd = np.std(grandsample)\n",
        "se = grandstd / np.sqrt(3)\n",
        "\n",
        "print(f\"Sample1 mean is {mean1}\")\n",
        "print(f\"Sample2 mean is {mean2}\")\n",
        "print(f\"Sample3 mean is {mean3}\")\n",
        "print(f\"GRAND mean is {grandmean}\")\n",
        "print(f\"GRAND variance is {grandvariance}\")\n",
        "print(f\"GRAND standard deviation is {grandstd}\")\n",
        "print(f\"STANDARD ERROR IS  {se}\")\n",
        "\n",
        "\n"
      ],
      "metadata": {
        "colab": {
          "base_uri": "https://localhost:8080/"
        },
        "id": "OL1gVlENpryR",
        "outputId": "964e2fbb-5042-42fa-fbcb-0135b3b6596f"
      },
      "execution_count": null,
      "outputs": [
        {
          "output_type": "stream",
          "name": "stdout",
          "text": [
            "Sample1 mean is 45.0\n",
            "Sample2 mean is 46.666666666666664\n",
            "Sample3 mean is 98.33333333333333\n",
            "GRAND mean is 63.333333333333336\n",
            "GRAND variance is 612.9629629629629\n",
            "GRAND standard deviation is 24.758088839063547\n",
            "STANDARD ERROR IS  14.294089255854008\n"
          ]
        }
      ]
    },
    {
      "cell_type": "markdown",
      "source": [
        "Question 1: Create a 3x3 matrix with values ranging from 0 to 8.\n",
        "Question 2: Extract all even numbers from a given array.\n",
        "Question 3: Calculate the dot product of two vectors.\n",
        "Question 4: Create a 5x5 identity matrix.\n",
        "Question 5: Calculate the standard deviation of a given array.\n",
        "Question 6: Create a 3x3x3 3D array with random values.\n",
        "Question 7: Calculate the determinant of a given matrix."
      ],
      "metadata": {
        "id": "5j4lcSvV7sBM"
      }
    },
    {
      "cell_type": "code",
      "source": [
        "# Question 1: Create a 3x3 matrix with values ranging from 0 to 8\n",
        "import numpy as np\n",
        "\n",
        "matrix = np.arange(9).reshape(3, 3)\n",
        "print(matrix)"
      ],
      "metadata": {
        "colab": {
          "base_uri": "https://localhost:8080/"
        },
        "id": "FpBN3vk472s7",
        "outputId": "7e58478e-df3d-4c4a-9bb1-31a3c159821d"
      },
      "execution_count": null,
      "outputs": [
        {
          "output_type": "stream",
          "name": "stdout",
          "text": [
            "[[0 1 2]\n",
            " [3 4 5]\n",
            " [6 7 8]]\n"
          ]
        }
      ]
    },
    {
      "cell_type": "code",
      "source": [
        "# Question 2: Extract all even numbers from a given array.\n",
        "a = np.array([1,2,3,4,5,6,7,8,9,10])\n",
        "even_numbers = a[a % 2 == 0]\n",
        "print(even_numbers)\n",
        "\n"
      ],
      "metadata": {
        "colab": {
          "base_uri": "https://localhost:8080/"
        },
        "id": "kkJ-NX2M8v1t",
        "outputId": "f0677c08-b93e-4db6-aaa4-f54e257d831d"
      },
      "execution_count": null,
      "outputs": [
        {
          "output_type": "stream",
          "name": "stdout",
          "text": [
            "[ 2  4  6  8 10]\n"
          ]
        }
      ]
    },
    {
      "cell_type": "code",
      "source": [
        "# Question 3: Calculate the dot product of two vectors\n",
        "a = np.array([1,2,3])\n",
        "b = np.array([4,5,6])\n",
        "dot_product = np.dot(a,b)\n",
        "print(dot_product)"
      ],
      "metadata": {
        "colab": {
          "base_uri": "https://localhost:8080/"
        },
        "id": "zx2ESL16-Mur",
        "outputId": "a2726625-61f5-45bd-fb66-2a7e5914bdc2"
      },
      "execution_count": null,
      "outputs": [
        {
          "output_type": "stream",
          "name": "stdout",
          "text": [
            "32\n"
          ]
        }
      ]
    },
    {
      "cell_type": "code",
      "source": [
        "# Question 4: Create a 5x5 identity matrix\n",
        "import numpy as np\n",
        "\n",
        "# Creating a 5x5 identity matrix\n",
        "identity_matrix = np.identity(5)\n",
        "\n",
        "# Print the identity matrix\n",
        "print(identity_matrix)\n",
        "\n",
        "\n"
      ],
      "metadata": {
        "colab": {
          "base_uri": "https://localhost:8080/"
        },
        "id": "Oqf8bJej_Nvo",
        "outputId": "0bc2d4f6-fe0a-4eb3-9b33-bb3750b3faa4"
      },
      "execution_count": null,
      "outputs": [
        {
          "output_type": "stream",
          "name": "stdout",
          "text": [
            "[[1. 0. 0. 0. 0.]\n",
            " [0. 1. 0. 0. 0.]\n",
            " [0. 0. 1. 0. 0.]\n",
            " [0. 0. 0. 1. 0.]\n",
            " [0. 0. 0. 0. 1.]]\n"
          ]
        }
      ]
    },
    {
      "cell_type": "code",
      "source": [
        "# 5: Calculate the standard deviation of a given array.\n",
        "import numpy as np\n",
        "\n",
        "# Given array\n",
        "a = np.array([1, 2, 3, 4, 5])\n",
        "\n",
        "# Calculate the standard deviation\n",
        "std_dev = np.std(a)\n",
        "\n",
        "# Print the standard deviation\n",
        "print(f\"The standard deviation is {np.std(a)}\")"
      ],
      "metadata": {
        "colab": {
          "base_uri": "https://localhost:8080/"
        },
        "id": "Ttupv0T4Aeud",
        "outputId": "6a340f31-8d0d-4376-8bbd-a3130934a1b6"
      },
      "execution_count": null,
      "outputs": [
        {
          "output_type": "stream",
          "name": "stdout",
          "text": [
            "The standard deviation is 1.4142135623730951\n"
          ]
        }
      ]
    },
    {
      "cell_type": "code",
      "source": [
        "# Create a 3x3x3 3D array with random values.\n",
        "import numpy as np\n",
        "\n",
        "# Create a 3x3x3 array with random values\n",
        "array = np.random.rand(3, 3, 3)\n",
        "\n",
        "# Print the array\n",
        "print(array)\n"
      ],
      "metadata": {
        "colab": {
          "base_uri": "https://localhost:8080/"
        },
        "id": "zk4t6360CDu9",
        "outputId": "a57452e3-b018-41b6-8cc9-40a574d7a2c8"
      },
      "execution_count": null,
      "outputs": [
        {
          "output_type": "stream",
          "name": "stdout",
          "text": [
            "[[[0.89486058 0.81816723 0.13650402]\n",
            "  [0.16963573 0.48603555 0.33116692]\n",
            "  [0.53755029 0.87068296 0.14848843]]\n",
            "\n",
            " [[0.39094265 0.30681829 0.48920701]\n",
            "  [0.77163735 0.79310722 0.19505103]\n",
            "  [0.91830493 0.53587351 0.42941829]]\n",
            "\n",
            " [[0.59821028 0.68053023 0.13791767]\n",
            "  [0.157141   0.72695234 0.73146445]\n",
            "  [0.65560843 0.19653452 0.02374372]]]\n"
          ]
        }
      ]
    },
    {
      "cell_type": "code",
      "source": [
        "# 7: Calculate the determinant of a given matrix.\n",
        "import numpy as np\n",
        "\n",
        "# Given matrix\n",
        "matrix = np.array([[1, 2], [3, 4]])\n",
        "\n",
        "# Calculate the determinant\n",
        "determinant = np.linalg.det(matrix)\n",
        "\n",
        "# Print the determinant\n",
        "print(f\"The determinant is {determinant}\")"
      ],
      "metadata": {
        "colab": {
          "base_uri": "https://localhost:8080/"
        },
        "id": "WuOjIVyyDpax",
        "outputId": "97133f3a-28de-45c3-9254-c94c9d289c94"
      },
      "execution_count": null,
      "outputs": [
        {
          "output_type": "stream",
          "name": "stdout",
          "text": [
            "The determinant is -2.0000000000000004\n"
          ]
        }
      ]
    },
    {
      "cell_type": "code",
      "source": [
        "# INTRODUCTION TO PANDAS\n"
      ],
      "metadata": {
        "id": "Y_Uoafheja8i"
      },
      "execution_count": null,
      "outputs": []
    },
    {
      "cell_type": "code",
      "source": [
        "!pip install pandas\n"
      ],
      "metadata": {
        "colab": {
          "base_uri": "https://localhost:8080/"
        },
        "id": "RnPBkJZeiPs6",
        "outputId": "d43b915f-68bc-4ff1-86ef-569538c5599b"
      },
      "execution_count": null,
      "outputs": [
        {
          "output_type": "stream",
          "name": "stdout",
          "text": [
            "Requirement already satisfied: pandas in /usr/local/lib/python3.10/dist-packages (2.1.4)\n",
            "Requirement already satisfied: numpy<2,>=1.22.4 in /usr/local/lib/python3.10/dist-packages (from pandas) (1.26.4)\n",
            "Requirement already satisfied: python-dateutil>=2.8.2 in /usr/local/lib/python3.10/dist-packages (from pandas) (2.8.2)\n",
            "Requirement already satisfied: pytz>=2020.1 in /usr/local/lib/python3.10/dist-packages (from pandas) (2024.2)\n",
            "Requirement already satisfied: tzdata>=2022.1 in /usr/local/lib/python3.10/dist-packages (from pandas) (2024.1)\n",
            "Requirement already satisfied: six>=1.5 in /usr/local/lib/python3.10/dist-packages (from python-dateutil>=2.8.2->pandas) (1.16.0)\n",
            "Traceback (most recent call last):\n",
            "  File \"/usr/local/lib/python3.10/dist-packages/pip/_vendor/pkg_resources/__init__.py\", line 3070, in _dep_map\n",
            "    return self.__dep_map\n",
            "  File \"/usr/local/lib/python3.10/dist-packages/pip/_vendor/pkg_resources/__init__.py\", line 2863, in __getattr__\n",
            "    raise AttributeError(attr)\n",
            "AttributeError: _DistInfoDistribution__dep_map\n",
            "\n",
            "During handling of the above exception, another exception occurred:\n",
            "\n",
            "Traceback (most recent call last):\n",
            "  File \"/usr/local/lib/python3.10/dist-packages/pip/_internal/cli/base_command.py\", line 179, in exc_logging_wrapper\n",
            "    status = run_func(*args)\n",
            "  File \"/usr/local/lib/python3.10/dist-packages/pip/_internal/cli/req_command.py\", line 67, in wrapper\n",
            "    return func(self, options, args)\n",
            "  File \"/usr/local/lib/python3.10/dist-packages/pip/_internal/commands/install.py\", line 447, in run\n",
            "    conflicts = self._determine_conflicts(to_install)\n",
            "  File \"/usr/local/lib/python3.10/dist-packages/pip/_internal/commands/install.py\", line 578, in _determine_conflicts\n",
            "    return check_install_conflicts(to_install)\n",
            "  File \"/usr/local/lib/python3.10/dist-packages/pip/_internal/operations/check.py\", line 101, in check_install_conflicts\n",
            "    package_set, _ = create_package_set_from_installed()\n",
            "  File \"/usr/local/lib/python3.10/dist-packages/pip/_internal/operations/check.py\", line 42, in create_package_set_from_installed\n",
            "    dependencies = list(dist.iter_dependencies())\n",
            "  File \"/usr/local/lib/python3.10/dist-packages/pip/_internal/metadata/pkg_resources.py\", line 247, in iter_dependencies\n",
            "    return self._dist.requires(extras)\n",
            "  File \"/usr/local/lib/python3.10/dist-packages/pip/_vendor/pkg_resources/__init__.py\", line 2786, in requires\n",
            "    dm = self._dep_map\n",
            "  File \"/usr/local/lib/python3.10/dist-packages/pip/_vendor/pkg_resources/__init__.py\", line 3072, in _dep_map\n",
            "    self.__dep_map = self._compute_dependencies()\n",
            "  File \"/usr/local/lib/python3.10/dist-packages/pip/_vendor/pkg_resources/__init__.py\", line 3094, in _compute_dependencies\n",
            "    dm[s_extra] = [r for r in reqs_for_extra(extra) if r not in common]\n",
            "  File \"/usr/local/lib/python3.10/dist-packages/pip/_vendor/pkg_resources/__init__.py\", line 3094, in <listcomp>\n",
            "    dm[s_extra] = [r for r in reqs_for_extra(extra) if r not in common]\n",
            "  File \"/usr/local/lib/python3.10/dist-packages/pip/_vendor/pkg_resources/__init__.py\", line 3086, in reqs_for_extra\n",
            "    if not req.marker or req.marker.evaluate({'extra': extra}):\n",
            "  File \"/usr/local/lib/python3.10/dist-packages/pip/_vendor/packaging/markers.py\", line 325, in evaluate\n",
            "    return _evaluate_markers(self._markers, current_environment)\n",
            "  File \"/usr/local/lib/python3.10/dist-packages/pip/_vendor/packaging/markers.py\", line 225, in _evaluate_markers\n",
            "    groups[-1].append(_eval_op(lhs_value, op, rhs_value))\n",
            "  File \"/usr/local/lib/python3.10/dist-packages/pip/_vendor/packaging/markers.py\", line 179, in _eval_op\n",
            "    spec = Specifier(\"\".join([op.serialize(), rhs]))\n",
            "KeyboardInterrupt\n",
            "\n",
            "During handling of the above exception, another exception occurred:\n",
            "\n",
            "Traceback (most recent call last):\n",
            "  File \"/usr/local/bin/pip3\", line 8, in <module>\n",
            "    sys.exit(main())\n",
            "  File \"/usr/local/lib/python3.10/dist-packages/pip/_internal/cli/main.py\", line 80, in main\n",
            "    return command.main(cmd_args)\n",
            "  File \"/usr/local/lib/python3.10/dist-packages/pip/_internal/cli/base_command.py\", line 100, in main\n",
            "    return self._main(args)\n",
            "  File \"/usr/local/lib/python3.10/dist-packages/pip/_internal/cli/base_command.py\", line 232, in _main\n",
            "    return run(options, args)\n",
            "  File \"/usr/local/lib/python3.10/dist-packages/pip/_internal/cli/base_command.py\", line 215, in exc_logging_wrapper\n",
            "    logger.critical(\"Operation cancelled by user\")\n",
            "  File \"/usr/lib/python3.10/logging/__init__.py\", line 1524, in critical\n",
            "    self._log(CRITICAL, msg, args, **kwargs)\n",
            "  File \"/usr/lib/python3.10/logging/__init__.py\", line 1624, in _log\n",
            "    self.handle(record)\n",
            "  File \"/usr/lib/python3.10/logging/__init__.py\", line 1634, in handle\n",
            "    self.callHandlers(record)\n",
            "  File \"/usr/lib/python3.10/logging/__init__.py\", line 1696, in callHandlers\n",
            "    hdlr.handle(record)\n",
            "  File \"/usr/lib/python3.10/logging/__init__.py\", line 968, in handle\n",
            "    self.emit(record)\n",
            "  File \"/usr/local/lib/python3.10/dist-packages/pip/_internal/utils/logging.py\", line 177, in emit\n",
            "    self.console.print(renderable, overflow=\"ignore\", crop=False, style=style)\n",
            "  File \"/usr/local/lib/python3.10/dist-packages/pip/_vendor/rich/console.py\", line 1674, in print\n",
            "    renderables = self._collect_renderables(\n",
            "  File \"/usr/local/lib/python3.10/dist-packages/pip/_vendor/rich/console.py\", line 1535, in _collect_renderables\n",
            "    renderable = rich_cast(renderable)\n",
            "  File \"/usr/local/lib/python3.10/dist-packages/pip/_vendor/rich/protocol.py\", line 30, in rich_cast\n",
            "    rich_visited_set: Set[type] = set()  # Prevent potential infinite loop\n",
            "KeyboardInterrupt\n",
            "^C\n"
          ]
        }
      ]
    },
    {
      "cell_type": "code",
      "source": [
        "from google.colab import drive\n",
        "drive.mount('/content/drive')"
      ],
      "metadata": {
        "colab": {
          "base_uri": "https://localhost:8080/"
        },
        "id": "_Mtl-DoFpWXY",
        "outputId": "7b30e102-be8e-4a7d-f59f-c714653bbdf3"
      },
      "execution_count": null,
      "outputs": [
        {
          "output_type": "stream",
          "name": "stdout",
          "text": [
            "Mounted at /content/drive\n"
          ]
        }
      ]
    },
    {
      "cell_type": "code",
      "source": [
        "!pip install numphy\n"
      ],
      "metadata": {
        "colab": {
          "base_uri": "https://localhost:8080/"
        },
        "id": "6xfkR-gNiZXo",
        "outputId": "1eb803ac-bf36-472a-85be-013bbb04ccd1"
      },
      "execution_count": null,
      "outputs": [
        {
          "output_type": "stream",
          "name": "stdout",
          "text": [
            "Collecting numphy\n",
            "  Downloading numphy-0.0.2.tar.gz (18 kB)\n",
            "  Preparing metadata (setup.py) ... \u001b[?25l\u001b[?25hdone\n",
            "Requirement already satisfied: six in /usr/local/lib/python3.10/dist-packages (from numphy) (1.16.0)\n",
            "Requirement already satisfied: wrapt in /usr/local/lib/python3.10/dist-packages (from numphy) (1.16.0)\n",
            "Building wheels for collected packages: numphy\n",
            "  Building wheel for numphy (setup.py) ... \u001b[?25l\u001b[?25hdone\n",
            "  Created wheel for numphy: filename=numphy-0.0.2-py3-none-any.whl size=9927 sha256=46910c13ed2ef1b66671817e6572a20d0311d1027c77db6ca83a0de1a19ca0fd\n",
            "  Stored in directory: /root/.cache/pip/wheels/28/ae/3a/ff0343794751f0b8ec475c4ecda6b8d881bd5fef2775a0aabb\n",
            "Successfully built numphy\n",
            "Installing collected packages: numphy\n",
            "Successfully installed numphy-0.0.2\n"
          ]
        }
      ]
    },
    {
      "cell_type": "code",
      "source": [
        "import numphy as np\n",
        "import pandas as pd"
      ],
      "metadata": {
        "id": "6Nz4QIyLjH_w"
      },
      "execution_count": null,
      "outputs": []
    },
    {
      "cell_type": "code",
      "source": [
        "import pandas as pd\n",
        "df = pd.read_csv('/content/drive/My Drive/Colab Notebooks/data/rideshare_2022.csv')\n",
        "df.tail(10)"
      ],
      "metadata": {
        "colab": {
          "base_uri": "https://localhost:8080/",
          "height": 794
        },
        "id": "gMJqgNVErClz",
        "outputId": "5ae18898-ba70-43f7-df3f-735bc8f1d67b"
      },
      "execution_count": null,
      "outputs": [
        {
          "output_type": "execute_result",
          "data": {
            "text/plain": [
              "                                         Trip ID Trip Start Timestamp  \\\n",
              "691088  a9a430fa0299447286e9ef8f059943b9aa8c3b01     12/31/2022 11:45   \n",
              "691089  b47ec92aab303d25a6bf6582415a6f4e04ad4eb7     12/31/2022 11:45   \n",
              "691090  bf1db02bb45bed585268230a058ab88cc3469fb4     12/31/2022 11:45   \n",
              "691091  c7d85af3607e891ed2ddc34d6f77f5d05d59cfd6     12/31/2022 11:45   \n",
              "691092  d1e68638f1c042aae18de7b3b4743d472a31ca15     12/31/2022 11:45   \n",
              "691093  d9ef6950b69863d6dfcf90c3e51699acdfe95e28     12/31/2022 11:45   \n",
              "691094  e27e62a864d1df33f45a61d41aa032ce6a7961cf     12/31/2022 11:45   \n",
              "691095  ea5210285b616ed79fa0ff425beed8444a855eb4     12/31/2022 11:45   \n",
              "691096  f38b06ee0def89c7167bafade4725b1a3910ec22     12/31/2022 11:45   \n",
              "691097  fc1437605def2bf850cd02631cd9d422b78d28ad     12/31/2022 11:45   \n",
              "\n",
              "       Trip End Timestamp  Trip Seconds  Trip Miles  Pickup Census Tract  \\\n",
              "691088   12/31/2022 11:45         497.0         1.7         1.703122e+10   \n",
              "691089   12/31/2022 11:45         529.0         1.3         1.703106e+10   \n",
              "691090   12/31/2022 11:45         624.0         3.0         1.703107e+10   \n",
              "691091   12/31/2022 11:45         519.0         0.7         1.703106e+10   \n",
              "691092   01/01/2023 00:15        1702.0        24.5                  NaN   \n",
              "691093   12/31/2022 11:45         258.0         0.5         1.703108e+10   \n",
              "691094   12/31/2022 11:45          97.0         0.2         1.703184e+10   \n",
              "691095   01/01/2023 00:15        1653.0        18.7                  NaN   \n",
              "691096   01/01/2023 00:15        1027.0         6.7                  NaN   \n",
              "691097   12/31/2022 11:45         269.0         1.3                  NaN   \n",
              "\n",
              "        Dropoff Census Tract  Pickup Community Area  Dropoff Community Area  \\\n",
              "691088          1.703124e+10                   22.0                    24.0   \n",
              "691089          1.703106e+10                    6.0                     6.0   \n",
              "691090          1.703108e+10                    7.0                     8.0   \n",
              "691091          1.703107e+10                    6.0                     7.0   \n",
              "691092                   NaN                    NaN                     7.0   \n",
              "691093          1.703108e+10                    8.0                     8.0   \n",
              "691094          1.703132e+10                   32.0                    32.0   \n",
              "691095                   NaN                   60.0                     NaN   \n",
              "691096                   NaN                   28.0                     6.0   \n",
              "691097                   NaN                    NaN                     9.0   \n",
              "\n",
              "        Fare  ...  Trip Total  Shared Trip Authorized  Trips Pooled  \\\n",
              "691088   5.0  ...        7.91                       0             1   \n",
              "691089   7.5  ...        8.76                       0             1   \n",
              "691090   7.5  ...       10.69                       0             1   \n",
              "691091   5.0  ...        7.91                       0             1   \n",
              "691092  25.0  ...       40.44                       0             1   \n",
              "691093   5.0  ...       10.91                       0             1   \n",
              "691094   2.5  ...        6.48                       0             1   \n",
              "691095  22.5  ...       23.14                       1             1   \n",
              "691096  15.0  ...       24.63                       0             1   \n",
              "691097   5.0  ...        8.03                       0             1   \n",
              "\n",
              "        Pickup Centroid Latitude  Pickup Centroid Longitude  \\\n",
              "691088                 41.921126                 -87.699754   \n",
              "691089                 41.943237                 -87.643471   \n",
              "691090                 41.929078                 -87.646293   \n",
              "691091                 41.936159                 -87.661265   \n",
              "691092                       NaN                        NaN   \n",
              "691093                 41.890922                 -87.618868   \n",
              "691094                 41.880994                 -87.632746   \n",
              "691095                 41.836150                 -87.648788   \n",
              "691096                 41.874005                 -87.663518   \n",
              "691097                       NaN                        NaN   \n",
              "\n",
              "                    Pickup Centroid Location  Dropoff Centroid Latitude  \\\n",
              "691088  POINT (-87.6997544065 41.9211259143)                  41.906026   \n",
              "691089  POINT (-87.6434709559 41.9432371225)                  41.949140   \n",
              "691090  POINT (-87.6462934762 41.9290776551)                  41.900221   \n",
              "691091   POINT (-87.6612652184 41.936159071)                  41.928967   \n",
              "691092                                   NaN                  41.922686   \n",
              "691093  POINT (-87.6188683546 41.8909220259)                  41.890922   \n",
              "691094  POINT (-87.6327464887 41.8809944707)                  41.877406   \n",
              "691095  POINT (-87.6487879519 41.8361501547)                        NaN   \n",
              "691096   POINT (-87.6635175498 41.874005383)                  41.944227   \n",
              "691097                                   NaN                  42.007613   \n",
              "\n",
              "       Dropoff Centroid Longitude             Dropoff Centroid Location  \\\n",
              "691088                 -87.675312   POINT (-87.6753116216 41.906025969)   \n",
              "691089                 -87.656804  POINT (-87.6568039088 41.9491397709)   \n",
              "691090                 -87.629105  POINT (-87.6291051864 41.9002212967)   \n",
              "691091                 -87.656157  POINT (-87.6561568309 41.9289672664)   \n",
              "691092                 -87.649489  POINT (-87.6494887289 41.9226862843)   \n",
              "691093                 -87.618868  POINT (-87.6188683546 41.8909220259)   \n",
              "691094                 -87.621972  POINT (-87.6219716519 41.8774061234)   \n",
              "691095                        NaN                                   NaN   \n",
              "691096                 -87.655998  POINT (-87.6559981815 41.9442266014)   \n",
              "691097                 -87.813781  POINT (-87.8137810343 42.0076125931)   \n",
              "\n",
              "        len_date  \n",
              "691088        16  \n",
              "691089        16  \n",
              "691090        16  \n",
              "691091        16  \n",
              "691092        16  \n",
              "691093        16  \n",
              "691094        16  \n",
              "691095        16  \n",
              "691096        16  \n",
              "691097        16  \n",
              "\n",
              "[10 rows x 22 columns]"
            ],
            "text/html": [
              "\n",
              "  <div id=\"df-85891d76-58c3-4095-b9db-9c161c554dfd\" class=\"colab-df-container\">\n",
              "    <div>\n",
              "<style scoped>\n",
              "    .dataframe tbody tr th:only-of-type {\n",
              "        vertical-align: middle;\n",
              "    }\n",
              "\n",
              "    .dataframe tbody tr th {\n",
              "        vertical-align: top;\n",
              "    }\n",
              "\n",
              "    .dataframe thead th {\n",
              "        text-align: right;\n",
              "    }\n",
              "</style>\n",
              "<table border=\"1\" class=\"dataframe\">\n",
              "  <thead>\n",
              "    <tr style=\"text-align: right;\">\n",
              "      <th></th>\n",
              "      <th>Trip ID</th>\n",
              "      <th>Trip Start Timestamp</th>\n",
              "      <th>Trip End Timestamp</th>\n",
              "      <th>Trip Seconds</th>\n",
              "      <th>Trip Miles</th>\n",
              "      <th>Pickup Census Tract</th>\n",
              "      <th>Dropoff Census Tract</th>\n",
              "      <th>Pickup Community Area</th>\n",
              "      <th>Dropoff Community Area</th>\n",
              "      <th>Fare</th>\n",
              "      <th>...</th>\n",
              "      <th>Trip Total</th>\n",
              "      <th>Shared Trip Authorized</th>\n",
              "      <th>Trips Pooled</th>\n",
              "      <th>Pickup Centroid Latitude</th>\n",
              "      <th>Pickup Centroid Longitude</th>\n",
              "      <th>Pickup Centroid Location</th>\n",
              "      <th>Dropoff Centroid Latitude</th>\n",
              "      <th>Dropoff Centroid Longitude</th>\n",
              "      <th>Dropoff Centroid Location</th>\n",
              "      <th>len_date</th>\n",
              "    </tr>\n",
              "  </thead>\n",
              "  <tbody>\n",
              "    <tr>\n",
              "      <th>691088</th>\n",
              "      <td>a9a430fa0299447286e9ef8f059943b9aa8c3b01</td>\n",
              "      <td>12/31/2022 11:45</td>\n",
              "      <td>12/31/2022 11:45</td>\n",
              "      <td>497.0</td>\n",
              "      <td>1.7</td>\n",
              "      <td>1.703122e+10</td>\n",
              "      <td>1.703124e+10</td>\n",
              "      <td>22.0</td>\n",
              "      <td>24.0</td>\n",
              "      <td>5.0</td>\n",
              "      <td>...</td>\n",
              "      <td>7.91</td>\n",
              "      <td>0</td>\n",
              "      <td>1</td>\n",
              "      <td>41.921126</td>\n",
              "      <td>-87.699754</td>\n",
              "      <td>POINT (-87.6997544065 41.9211259143)</td>\n",
              "      <td>41.906026</td>\n",
              "      <td>-87.675312</td>\n",
              "      <td>POINT (-87.6753116216 41.906025969)</td>\n",
              "      <td>16</td>\n",
              "    </tr>\n",
              "    <tr>\n",
              "      <th>691089</th>\n",
              "      <td>b47ec92aab303d25a6bf6582415a6f4e04ad4eb7</td>\n",
              "      <td>12/31/2022 11:45</td>\n",
              "      <td>12/31/2022 11:45</td>\n",
              "      <td>529.0</td>\n",
              "      <td>1.3</td>\n",
              "      <td>1.703106e+10</td>\n",
              "      <td>1.703106e+10</td>\n",
              "      <td>6.0</td>\n",
              "      <td>6.0</td>\n",
              "      <td>7.5</td>\n",
              "      <td>...</td>\n",
              "      <td>8.76</td>\n",
              "      <td>0</td>\n",
              "      <td>1</td>\n",
              "      <td>41.943237</td>\n",
              "      <td>-87.643471</td>\n",
              "      <td>POINT (-87.6434709559 41.9432371225)</td>\n",
              "      <td>41.949140</td>\n",
              "      <td>-87.656804</td>\n",
              "      <td>POINT (-87.6568039088 41.9491397709)</td>\n",
              "      <td>16</td>\n",
              "    </tr>\n",
              "    <tr>\n",
              "      <th>691090</th>\n",
              "      <td>bf1db02bb45bed585268230a058ab88cc3469fb4</td>\n",
              "      <td>12/31/2022 11:45</td>\n",
              "      <td>12/31/2022 11:45</td>\n",
              "      <td>624.0</td>\n",
              "      <td>3.0</td>\n",
              "      <td>1.703107e+10</td>\n",
              "      <td>1.703108e+10</td>\n",
              "      <td>7.0</td>\n",
              "      <td>8.0</td>\n",
              "      <td>7.5</td>\n",
              "      <td>...</td>\n",
              "      <td>10.69</td>\n",
              "      <td>0</td>\n",
              "      <td>1</td>\n",
              "      <td>41.929078</td>\n",
              "      <td>-87.646293</td>\n",
              "      <td>POINT (-87.6462934762 41.9290776551)</td>\n",
              "      <td>41.900221</td>\n",
              "      <td>-87.629105</td>\n",
              "      <td>POINT (-87.6291051864 41.9002212967)</td>\n",
              "      <td>16</td>\n",
              "    </tr>\n",
              "    <tr>\n",
              "      <th>691091</th>\n",
              "      <td>c7d85af3607e891ed2ddc34d6f77f5d05d59cfd6</td>\n",
              "      <td>12/31/2022 11:45</td>\n",
              "      <td>12/31/2022 11:45</td>\n",
              "      <td>519.0</td>\n",
              "      <td>0.7</td>\n",
              "      <td>1.703106e+10</td>\n",
              "      <td>1.703107e+10</td>\n",
              "      <td>6.0</td>\n",
              "      <td>7.0</td>\n",
              "      <td>5.0</td>\n",
              "      <td>...</td>\n",
              "      <td>7.91</td>\n",
              "      <td>0</td>\n",
              "      <td>1</td>\n",
              "      <td>41.936159</td>\n",
              "      <td>-87.661265</td>\n",
              "      <td>POINT (-87.6612652184 41.936159071)</td>\n",
              "      <td>41.928967</td>\n",
              "      <td>-87.656157</td>\n",
              "      <td>POINT (-87.6561568309 41.9289672664)</td>\n",
              "      <td>16</td>\n",
              "    </tr>\n",
              "    <tr>\n",
              "      <th>691092</th>\n",
              "      <td>d1e68638f1c042aae18de7b3b4743d472a31ca15</td>\n",
              "      <td>12/31/2022 11:45</td>\n",
              "      <td>01/01/2023 00:15</td>\n",
              "      <td>1702.0</td>\n",
              "      <td>24.5</td>\n",
              "      <td>NaN</td>\n",
              "      <td>NaN</td>\n",
              "      <td>NaN</td>\n",
              "      <td>7.0</td>\n",
              "      <td>25.0</td>\n",
              "      <td>...</td>\n",
              "      <td>40.44</td>\n",
              "      <td>0</td>\n",
              "      <td>1</td>\n",
              "      <td>NaN</td>\n",
              "      <td>NaN</td>\n",
              "      <td>NaN</td>\n",
              "      <td>41.922686</td>\n",
              "      <td>-87.649489</td>\n",
              "      <td>POINT (-87.6494887289 41.9226862843)</td>\n",
              "      <td>16</td>\n",
              "    </tr>\n",
              "    <tr>\n",
              "      <th>691093</th>\n",
              "      <td>d9ef6950b69863d6dfcf90c3e51699acdfe95e28</td>\n",
              "      <td>12/31/2022 11:45</td>\n",
              "      <td>12/31/2022 11:45</td>\n",
              "      <td>258.0</td>\n",
              "      <td>0.5</td>\n",
              "      <td>1.703108e+10</td>\n",
              "      <td>1.703108e+10</td>\n",
              "      <td>8.0</td>\n",
              "      <td>8.0</td>\n",
              "      <td>5.0</td>\n",
              "      <td>...</td>\n",
              "      <td>10.91</td>\n",
              "      <td>0</td>\n",
              "      <td>1</td>\n",
              "      <td>41.890922</td>\n",
              "      <td>-87.618868</td>\n",
              "      <td>POINT (-87.6188683546 41.8909220259)</td>\n",
              "      <td>41.890922</td>\n",
              "      <td>-87.618868</td>\n",
              "      <td>POINT (-87.6188683546 41.8909220259)</td>\n",
              "      <td>16</td>\n",
              "    </tr>\n",
              "    <tr>\n",
              "      <th>691094</th>\n",
              "      <td>e27e62a864d1df33f45a61d41aa032ce6a7961cf</td>\n",
              "      <td>12/31/2022 11:45</td>\n",
              "      <td>12/31/2022 11:45</td>\n",
              "      <td>97.0</td>\n",
              "      <td>0.2</td>\n",
              "      <td>1.703184e+10</td>\n",
              "      <td>1.703132e+10</td>\n",
              "      <td>32.0</td>\n",
              "      <td>32.0</td>\n",
              "      <td>2.5</td>\n",
              "      <td>...</td>\n",
              "      <td>6.48</td>\n",
              "      <td>0</td>\n",
              "      <td>1</td>\n",
              "      <td>41.880994</td>\n",
              "      <td>-87.632746</td>\n",
              "      <td>POINT (-87.6327464887 41.8809944707)</td>\n",
              "      <td>41.877406</td>\n",
              "      <td>-87.621972</td>\n",
              "      <td>POINT (-87.6219716519 41.8774061234)</td>\n",
              "      <td>16</td>\n",
              "    </tr>\n",
              "    <tr>\n",
              "      <th>691095</th>\n",
              "      <td>ea5210285b616ed79fa0ff425beed8444a855eb4</td>\n",
              "      <td>12/31/2022 11:45</td>\n",
              "      <td>01/01/2023 00:15</td>\n",
              "      <td>1653.0</td>\n",
              "      <td>18.7</td>\n",
              "      <td>NaN</td>\n",
              "      <td>NaN</td>\n",
              "      <td>60.0</td>\n",
              "      <td>NaN</td>\n",
              "      <td>22.5</td>\n",
              "      <td>...</td>\n",
              "      <td>23.14</td>\n",
              "      <td>1</td>\n",
              "      <td>1</td>\n",
              "      <td>41.836150</td>\n",
              "      <td>-87.648788</td>\n",
              "      <td>POINT (-87.6487879519 41.8361501547)</td>\n",
              "      <td>NaN</td>\n",
              "      <td>NaN</td>\n",
              "      <td>NaN</td>\n",
              "      <td>16</td>\n",
              "    </tr>\n",
              "    <tr>\n",
              "      <th>691096</th>\n",
              "      <td>f38b06ee0def89c7167bafade4725b1a3910ec22</td>\n",
              "      <td>12/31/2022 11:45</td>\n",
              "      <td>01/01/2023 00:15</td>\n",
              "      <td>1027.0</td>\n",
              "      <td>6.7</td>\n",
              "      <td>NaN</td>\n",
              "      <td>NaN</td>\n",
              "      <td>28.0</td>\n",
              "      <td>6.0</td>\n",
              "      <td>15.0</td>\n",
              "      <td>...</td>\n",
              "      <td>24.63</td>\n",
              "      <td>0</td>\n",
              "      <td>1</td>\n",
              "      <td>41.874005</td>\n",
              "      <td>-87.663518</td>\n",
              "      <td>POINT (-87.6635175498 41.874005383)</td>\n",
              "      <td>41.944227</td>\n",
              "      <td>-87.655998</td>\n",
              "      <td>POINT (-87.6559981815 41.9442266014)</td>\n",
              "      <td>16</td>\n",
              "    </tr>\n",
              "    <tr>\n",
              "      <th>691097</th>\n",
              "      <td>fc1437605def2bf850cd02631cd9d422b78d28ad</td>\n",
              "      <td>12/31/2022 11:45</td>\n",
              "      <td>12/31/2022 11:45</td>\n",
              "      <td>269.0</td>\n",
              "      <td>1.3</td>\n",
              "      <td>NaN</td>\n",
              "      <td>NaN</td>\n",
              "      <td>NaN</td>\n",
              "      <td>9.0</td>\n",
              "      <td>5.0</td>\n",
              "      <td>...</td>\n",
              "      <td>8.03</td>\n",
              "      <td>0</td>\n",
              "      <td>1</td>\n",
              "      <td>NaN</td>\n",
              "      <td>NaN</td>\n",
              "      <td>NaN</td>\n",
              "      <td>42.007613</td>\n",
              "      <td>-87.813781</td>\n",
              "      <td>POINT (-87.8137810343 42.0076125931)</td>\n",
              "      <td>16</td>\n",
              "    </tr>\n",
              "  </tbody>\n",
              "</table>\n",
              "<p>10 rows × 22 columns</p>\n",
              "</div>\n",
              "    <div class=\"colab-df-buttons\">\n",
              "\n",
              "  <div class=\"colab-df-container\">\n",
              "    <button class=\"colab-df-convert\" onclick=\"convertToInteractive('df-85891d76-58c3-4095-b9db-9c161c554dfd')\"\n",
              "            title=\"Convert this dataframe to an interactive table.\"\n",
              "            style=\"display:none;\">\n",
              "\n",
              "  <svg xmlns=\"http://www.w3.org/2000/svg\" height=\"24px\" viewBox=\"0 -960 960 960\">\n",
              "    <path d=\"M120-120v-720h720v720H120Zm60-500h600v-160H180v160Zm220 220h160v-160H400v160Zm0 220h160v-160H400v160ZM180-400h160v-160H180v160Zm440 0h160v-160H620v160ZM180-180h160v-160H180v160Zm440 0h160v-160H620v160Z\"/>\n",
              "  </svg>\n",
              "    </button>\n",
              "\n",
              "  <style>\n",
              "    .colab-df-container {\n",
              "      display:flex;\n",
              "      gap: 12px;\n",
              "    }\n",
              "\n",
              "    .colab-df-convert {\n",
              "      background-color: #E8F0FE;\n",
              "      border: none;\n",
              "      border-radius: 50%;\n",
              "      cursor: pointer;\n",
              "      display: none;\n",
              "      fill: #1967D2;\n",
              "      height: 32px;\n",
              "      padding: 0 0 0 0;\n",
              "      width: 32px;\n",
              "    }\n",
              "\n",
              "    .colab-df-convert:hover {\n",
              "      background-color: #E2EBFA;\n",
              "      box-shadow: 0px 1px 2px rgba(60, 64, 67, 0.3), 0px 1px 3px 1px rgba(60, 64, 67, 0.15);\n",
              "      fill: #174EA6;\n",
              "    }\n",
              "\n",
              "    .colab-df-buttons div {\n",
              "      margin-bottom: 4px;\n",
              "    }\n",
              "\n",
              "    [theme=dark] .colab-df-convert {\n",
              "      background-color: #3B4455;\n",
              "      fill: #D2E3FC;\n",
              "    }\n",
              "\n",
              "    [theme=dark] .colab-df-convert:hover {\n",
              "      background-color: #434B5C;\n",
              "      box-shadow: 0px 1px 3px 1px rgba(0, 0, 0, 0.15);\n",
              "      filter: drop-shadow(0px 1px 2px rgba(0, 0, 0, 0.3));\n",
              "      fill: #FFFFFF;\n",
              "    }\n",
              "  </style>\n",
              "\n",
              "    <script>\n",
              "      const buttonEl =\n",
              "        document.querySelector('#df-85891d76-58c3-4095-b9db-9c161c554dfd button.colab-df-convert');\n",
              "      buttonEl.style.display =\n",
              "        google.colab.kernel.accessAllowed ? 'block' : 'none';\n",
              "\n",
              "      async function convertToInteractive(key) {\n",
              "        const element = document.querySelector('#df-85891d76-58c3-4095-b9db-9c161c554dfd');\n",
              "        const dataTable =\n",
              "          await google.colab.kernel.invokeFunction('convertToInteractive',\n",
              "                                                    [key], {});\n",
              "        if (!dataTable) return;\n",
              "\n",
              "        const docLinkHtml = 'Like what you see? Visit the ' +\n",
              "          '<a target=\"_blank\" href=https://colab.research.google.com/notebooks/data_table.ipynb>data table notebook</a>'\n",
              "          + ' to learn more about interactive tables.';\n",
              "        element.innerHTML = '';\n",
              "        dataTable['output_type'] = 'display_data';\n",
              "        await google.colab.output.renderOutput(dataTable, element);\n",
              "        const docLink = document.createElement('div');\n",
              "        docLink.innerHTML = docLinkHtml;\n",
              "        element.appendChild(docLink);\n",
              "      }\n",
              "    </script>\n",
              "  </div>\n",
              "\n",
              "\n",
              "<div id=\"df-1170645e-9d4a-449a-92cf-a220326db790\">\n",
              "  <button class=\"colab-df-quickchart\" onclick=\"quickchart('df-1170645e-9d4a-449a-92cf-a220326db790')\"\n",
              "            title=\"Suggest charts\"\n",
              "            style=\"display:none;\">\n",
              "\n",
              "<svg xmlns=\"http://www.w3.org/2000/svg\" height=\"24px\"viewBox=\"0 0 24 24\"\n",
              "     width=\"24px\">\n",
              "    <g>\n",
              "        <path d=\"M19 3H5c-1.1 0-2 .9-2 2v14c0 1.1.9 2 2 2h14c1.1 0 2-.9 2-2V5c0-1.1-.9-2-2-2zM9 17H7v-7h2v7zm4 0h-2V7h2v10zm4 0h-2v-4h2v4z\"/>\n",
              "    </g>\n",
              "</svg>\n",
              "  </button>\n",
              "\n",
              "<style>\n",
              "  .colab-df-quickchart {\n",
              "      --bg-color: #E8F0FE;\n",
              "      --fill-color: #1967D2;\n",
              "      --hover-bg-color: #E2EBFA;\n",
              "      --hover-fill-color: #174EA6;\n",
              "      --disabled-fill-color: #AAA;\n",
              "      --disabled-bg-color: #DDD;\n",
              "  }\n",
              "\n",
              "  [theme=dark] .colab-df-quickchart {\n",
              "      --bg-color: #3B4455;\n",
              "      --fill-color: #D2E3FC;\n",
              "      --hover-bg-color: #434B5C;\n",
              "      --hover-fill-color: #FFFFFF;\n",
              "      --disabled-bg-color: #3B4455;\n",
              "      --disabled-fill-color: #666;\n",
              "  }\n",
              "\n",
              "  .colab-df-quickchart {\n",
              "    background-color: var(--bg-color);\n",
              "    border: none;\n",
              "    border-radius: 50%;\n",
              "    cursor: pointer;\n",
              "    display: none;\n",
              "    fill: var(--fill-color);\n",
              "    height: 32px;\n",
              "    padding: 0;\n",
              "    width: 32px;\n",
              "  }\n",
              "\n",
              "  .colab-df-quickchart:hover {\n",
              "    background-color: var(--hover-bg-color);\n",
              "    box-shadow: 0 1px 2px rgba(60, 64, 67, 0.3), 0 1px 3px 1px rgba(60, 64, 67, 0.15);\n",
              "    fill: var(--button-hover-fill-color);\n",
              "  }\n",
              "\n",
              "  .colab-df-quickchart-complete:disabled,\n",
              "  .colab-df-quickchart-complete:disabled:hover {\n",
              "    background-color: var(--disabled-bg-color);\n",
              "    fill: var(--disabled-fill-color);\n",
              "    box-shadow: none;\n",
              "  }\n",
              "\n",
              "  .colab-df-spinner {\n",
              "    border: 2px solid var(--fill-color);\n",
              "    border-color: transparent;\n",
              "    border-bottom-color: var(--fill-color);\n",
              "    animation:\n",
              "      spin 1s steps(1) infinite;\n",
              "  }\n",
              "\n",
              "  @keyframes spin {\n",
              "    0% {\n",
              "      border-color: transparent;\n",
              "      border-bottom-color: var(--fill-color);\n",
              "      border-left-color: var(--fill-color);\n",
              "    }\n",
              "    20% {\n",
              "      border-color: transparent;\n",
              "      border-left-color: var(--fill-color);\n",
              "      border-top-color: var(--fill-color);\n",
              "    }\n",
              "    30% {\n",
              "      border-color: transparent;\n",
              "      border-left-color: var(--fill-color);\n",
              "      border-top-color: var(--fill-color);\n",
              "      border-right-color: var(--fill-color);\n",
              "    }\n",
              "    40% {\n",
              "      border-color: transparent;\n",
              "      border-right-color: var(--fill-color);\n",
              "      border-top-color: var(--fill-color);\n",
              "    }\n",
              "    60% {\n",
              "      border-color: transparent;\n",
              "      border-right-color: var(--fill-color);\n",
              "    }\n",
              "    80% {\n",
              "      border-color: transparent;\n",
              "      border-right-color: var(--fill-color);\n",
              "      border-bottom-color: var(--fill-color);\n",
              "    }\n",
              "    90% {\n",
              "      border-color: transparent;\n",
              "      border-bottom-color: var(--fill-color);\n",
              "    }\n",
              "  }\n",
              "</style>\n",
              "\n",
              "  <script>\n",
              "    async function quickchart(key) {\n",
              "      const quickchartButtonEl =\n",
              "        document.querySelector('#' + key + ' button');\n",
              "      quickchartButtonEl.disabled = true;  // To prevent multiple clicks.\n",
              "      quickchartButtonEl.classList.add('colab-df-spinner');\n",
              "      try {\n",
              "        const charts = await google.colab.kernel.invokeFunction(\n",
              "            'suggestCharts', [key], {});\n",
              "      } catch (error) {\n",
              "        console.error('Error during call to suggestCharts:', error);\n",
              "      }\n",
              "      quickchartButtonEl.classList.remove('colab-df-spinner');\n",
              "      quickchartButtonEl.classList.add('colab-df-quickchart-complete');\n",
              "    }\n",
              "    (() => {\n",
              "      let quickchartButtonEl =\n",
              "        document.querySelector('#df-1170645e-9d4a-449a-92cf-a220326db790 button');\n",
              "      quickchartButtonEl.style.display =\n",
              "        google.colab.kernel.accessAllowed ? 'block' : 'none';\n",
              "    })();\n",
              "  </script>\n",
              "</div>\n",
              "\n",
              "    </div>\n",
              "  </div>\n"
            ],
            "application/vnd.google.colaboratory.intrinsic+json": {
              "type": "dataframe"
            }
          },
          "metadata": {},
          "execution_count": 22
        }
      ]
    },
    {
      "cell_type": "code",
      "source": [
        "!pip install pandas"
      ],
      "metadata": {
        "colab": {
          "base_uri": "https://localhost:8080/"
        },
        "id": "RXMtIjeAE4oQ",
        "outputId": "44d1270f-61d5-4fb3-9870-2653f62c33a3"
      },
      "execution_count": null,
      "outputs": [
        {
          "output_type": "stream",
          "name": "stdout",
          "text": [
            "Collecting panda\n",
            "  Downloading panda-0.3.1.tar.gz (5.8 kB)\n",
            "  Preparing metadata (setup.py) ... \u001b[?25l\u001b[?25hdone\n",
            "Requirement already satisfied: setuptools in /usr/local/lib/python3.10/dist-packages (from panda) (71.0.4)\n",
            "Requirement already satisfied: requests in /usr/local/lib/python3.10/dist-packages (from panda) (2.32.3)\n",
            "Requirement already satisfied: charset-normalizer<4,>=2 in /usr/local/lib/python3.10/dist-packages (from requests->panda) (3.3.2)\n",
            "Requirement already satisfied: idna<4,>=2.5 in /usr/local/lib/python3.10/dist-packages (from requests->panda) (3.10)\n",
            "Requirement already satisfied: urllib3<3,>=1.21.1 in /usr/local/lib/python3.10/dist-packages (from requests->panda) (2.2.3)\n",
            "Requirement already satisfied: certifi>=2017.4.17 in /usr/local/lib/python3.10/dist-packages (from requests->panda) (2024.8.30)\n",
            "Building wheels for collected packages: panda\n",
            "  Building wheel for panda (setup.py) ... \u001b[?25l\u001b[?25hdone\n",
            "  Created wheel for panda: filename=panda-0.3.1-py3-none-any.whl size=7239 sha256=cbaa8a1882b3f7c3c4ecb0be988ca7adc57f753346443b0833aed049ade074d0\n",
            "  Stored in directory: /root/.cache/pip/wheels/0e/8b/c3/ff9cbde1fffd8071cff8367a86f0350a1ce30a8d31b6a432e9\n",
            "Successfully built panda\n",
            "Installing collected packages: panda\n",
            "Successfully installed panda-0.3.1\n"
          ]
        }
      ]
    },
    {
      "cell_type": "code",
      "source": [
        "# prompt: # TO ACESS COLUMN WE PUT .columns\n",
        "\n",
        "# TO ACESS COLUMN WE PUT .columns\n",
        "print(df.columns)\n",
        "\n"
      ],
      "metadata": {
        "colab": {
          "base_uri": "https://localhost:8080/"
        },
        "id": "e5eNKvb10_S6",
        "outputId": "190bb2b4-3b58-46ab-e1c2-ec882e98f7a8"
      },
      "execution_count": null,
      "outputs": [
        {
          "output_type": "stream",
          "name": "stdout",
          "text": [
            "Index(['Trip ID', 'Trip Start Timestamp', 'Trip End Timestamp', 'Trip Seconds',\n",
            "       'Trip Miles', 'Pickup Census Tract', 'Dropoff Census Tract',\n",
            "       'Pickup Community Area', 'Dropoff Community Area', 'Fare', 'Tip',\n",
            "       'Additional Charges', 'Trip Total', 'Shared Trip Authorized',\n",
            "       'Trips Pooled', 'Pickup Centroid Latitude', 'Pickup Centroid Longitude',\n",
            "       'Pickup Centroid Location', 'Dropoff Centroid Latitude',\n",
            "       'Dropoff Centroid Longitude', 'Dropoff Centroid Location', 'len_date'],\n",
            "      dtype='object')\n"
          ]
        }
      ]
    },
    {
      "cell_type": "code",
      "source": [
        "trips = df['Trip Seconds']\n",
        "tripm = df['Trip Miles']\n",
        "print(trips.head())\n",
        "print(tripm.head())\n",
        "result=trips.corr(tripm)\n",
        "print(result)\n",
        "tript = df['Trip Total']\n",
        "faref =df['Fare']\n",
        "print(tript.head())\n",
        "print(faref.head())\n",
        "result=tript.corr(faref)\n",
        "print(result)\n",
        "\n"
      ],
      "metadata": {
        "colab": {
          "base_uri": "https://localhost:8080/"
        },
        "id": "6Yhus7j15nYx",
        "outputId": "e01e5469-55fc-4a76-ae86-8c906cc0e3bd"
      },
      "execution_count": null,
      "outputs": [
        {
          "output_type": "stream",
          "name": "stdout",
          "text": [
            "0    3905.0\n",
            "1    2299.0\n",
            "2     275.0\n",
            "3     243.0\n",
            "4     364.0\n",
            "Name: Trip Seconds, dtype: float64\n",
            "0    44.5\n",
            "1    25.0\n",
            "2     1.5\n",
            "3     1.0\n",
            "4     1.3\n",
            "Name: Trip Miles, dtype: float64\n",
            "0.8269083487280461\n",
            "0    66.25\n",
            "1    46.68\n",
            "2     8.52\n",
            "3     7.36\n",
            "4     7.36\n",
            "Name: Trip Total, dtype: float64\n",
            "0    55.0\n",
            "1    32.5\n",
            "2     7.5\n",
            "3     5.0\n",
            "4     5.0\n",
            "Name: Fare, dtype: float64\n",
            "0.956906365944876\n"
          ]
        }
      ]
    },
    {
      "cell_type": "markdown",
      "source": [],
      "metadata": {
        "id": "LivhNtWj09jP"
      }
    },
    {
      "cell_type": "code",
      "source": [
        "five = df.head()\n",
        "trips = df['Trip Seconds']\n",
        "tripm = df['Trip Miles']\n",
        "# print(trips.head())\n",
        "# print(tripm.head())\n",
        "result = trips.corr(tripm)\n",
        "print(five)\n",
        "print(result)\n"
      ],
      "metadata": {
        "id": "pu7wA6G15OSl",
        "colab": {
          "base_uri": "https://localhost:8080/"
        },
        "outputId": "47a1a824-23db-425c-fdb3-850a3238898c"
      },
      "execution_count": null,
      "outputs": [
        {
          "output_type": "stream",
          "name": "stdout",
          "text": [
            "                                    Trip ID Trip Start Timestamp  \\\n",
            "0  04767642defd6a3825d089ae66183906a89b902d     01/01/2022 00:00   \n",
            "1  138de88e19e045d9962f1f669e668f9dcdfbc9fd     01/01/2022 00:00   \n",
            "2  249cb7bc8eea309aaa3ef941756df4f62a53a92a     01/01/2022 00:00   \n",
            "3  36c8a2a4cd85fb32ae32170550d2a4d30b8df8a1     01/01/2022 00:00   \n",
            "4  493f7bbcba1d96bf10bd579fe1c4b7ddb95fd3a6     01/01/2022 00:00   \n",
            "\n",
            "  Trip End Timestamp  Trip Seconds  Trip Miles  Pickup Census Tract  \\\n",
            "0   01/01/2022 01:15        3905.0        44.5         1.703104e+10   \n",
            "1   01/01/2022 00:30        2299.0        25.0                  NaN   \n",
            "2   01/01/2022 00:00         275.0         1.5                  NaN   \n",
            "3   01/01/2022 00:15         243.0         1.0         1.703106e+10   \n",
            "4   01/01/2022 00:15         364.0         1.3         1.703107e+10   \n",
            "\n",
            "   Dropoff Census Tract  Pickup Community Area  Dropoff Community Area  Fare  \\\n",
            "0                   NaN                    4.0                     NaN  55.0   \n",
            "1                   NaN                   32.0                     NaN  32.5   \n",
            "2                   NaN                   40.0                    38.0   7.5   \n",
            "3          1.703106e+10                    6.0                     6.0   5.0   \n",
            "4          1.703106e+10                    7.0                     6.0   5.0   \n",
            "\n",
            "   ...  Trip Total  Shared Trip Authorized  Trips Pooled  \\\n",
            "0  ...       66.25                       0             1   \n",
            "1  ...       46.68                       0             1   \n",
            "2  ...        8.52                       0             1   \n",
            "3  ...        7.36                       0             1   \n",
            "4  ...        7.36                       0             1   \n",
            "\n",
            "   Pickup Centroid Latitude  Pickup Centroid Longitude  \\\n",
            "0                 41.972563                 -87.678846   \n",
            "1                 41.878866                 -87.625192   \n",
            "2                 41.792357                 -87.617931   \n",
            "3                 41.936310                 -87.651563   \n",
            "4                 41.921855                 -87.646211   \n",
            "\n",
            "               Pickup Centroid Location  Dropoff Centroid Latitude  \\\n",
            "0  POINT (-87.6788459662 41.9725625375)                        NaN   \n",
            "1  POINT (-87.6251921424 41.8788655841)                        NaN   \n",
            "2  POINT (-87.6179313803 41.7923572233)                  41.812949   \n",
            "3  POINT (-87.6515625922 41.9363101308)                  41.943155   \n",
            "4  POINT (-87.6462109769 41.9218549112)                  41.936237   \n",
            "\n",
            "  Dropoff Centroid Longitude             Dropoff Centroid Location  len_date  \n",
            "0                        NaN                                   NaN        16  \n",
            "1                        NaN                                   NaN        16  \n",
            "2                 -87.617860  POINT (-87.6178596758 41.8129489392)        16  \n",
            "3                 -87.640698   POINT (-87.640698076 41.9431550855)        16  \n",
            "4                 -87.656412  POINT (-87.6564115308 41.9362371791)        16  \n",
            "\n",
            "[5 rows x 22 columns]\n",
            "0.8269083487280461\n"
          ]
        }
      ]
    },
    {
      "cell_type": "code",
      "source": [
        "!pip install matplotlib\n",
        "!pip install seaborn"
      ],
      "metadata": {
        "colab": {
          "base_uri": "https://localhost:8080/"
        },
        "id": "k2QdqVYj9167",
        "outputId": "efc92a92-3ee7-4f02-fc70-bc8ec3928796"
      },
      "execution_count": null,
      "outputs": [
        {
          "output_type": "stream",
          "name": "stdout",
          "text": [
            "Requirement already satisfied: matplotlib in /usr/local/lib/python3.10/dist-packages (3.7.1)\n",
            "Requirement already satisfied: contourpy>=1.0.1 in /usr/local/lib/python3.10/dist-packages (from matplotlib) (1.3.0)\n",
            "Requirement already satisfied: cycler>=0.10 in /usr/local/lib/python3.10/dist-packages (from matplotlib) (0.12.1)\n",
            "Requirement already satisfied: fonttools>=4.22.0 in /usr/local/lib/python3.10/dist-packages (from matplotlib) (4.53.1)\n",
            "Requirement already satisfied: kiwisolver>=1.0.1 in /usr/local/lib/python3.10/dist-packages (from matplotlib) (1.4.7)\n",
            "Requirement already satisfied: numpy>=1.20 in /usr/local/lib/python3.10/dist-packages (from matplotlib) (1.26.4)\n",
            "Requirement already satisfied: packaging>=20.0 in /usr/local/lib/python3.10/dist-packages (from matplotlib) (24.1)\n",
            "Requirement already satisfied: pillow>=6.2.0 in /usr/local/lib/python3.10/dist-packages (from matplotlib) (10.4.0)\n",
            "Requirement already satisfied: pyparsing>=2.3.1 in /usr/local/lib/python3.10/dist-packages (from matplotlib) (3.1.4)\n",
            "Requirement already satisfied: python-dateutil>=2.7 in /usr/local/lib/python3.10/dist-packages (from matplotlib) (2.8.2)\n",
            "Requirement already satisfied: six>=1.5 in /usr/local/lib/python3.10/dist-packages (from python-dateutil>=2.7->matplotlib) (1.16.0)\n",
            "Requirement already satisfied: seaborn in /usr/local/lib/python3.10/dist-packages (0.13.1)\n",
            "Requirement already satisfied: numpy!=1.24.0,>=1.20 in /usr/local/lib/python3.10/dist-packages (from seaborn) (1.26.4)\n",
            "Requirement already satisfied: pandas>=1.2 in /usr/local/lib/python3.10/dist-packages (from seaborn) (2.1.4)\n",
            "Requirement already satisfied: matplotlib!=3.6.1,>=3.4 in /usr/local/lib/python3.10/dist-packages (from seaborn) (3.7.1)\n",
            "Requirement already satisfied: contourpy>=1.0.1 in /usr/local/lib/python3.10/dist-packages (from matplotlib!=3.6.1,>=3.4->seaborn) (1.3.0)\n",
            "Requirement already satisfied: cycler>=0.10 in /usr/local/lib/python3.10/dist-packages (from matplotlib!=3.6.1,>=3.4->seaborn) (0.12.1)\n",
            "Requirement already satisfied: fonttools>=4.22.0 in /usr/local/lib/python3.10/dist-packages (from matplotlib!=3.6.1,>=3.4->seaborn) (4.53.1)\n",
            "Requirement already satisfied: kiwisolver>=1.0.1 in /usr/local/lib/python3.10/dist-packages (from matplotlib!=3.6.1,>=3.4->seaborn) (1.4.7)\n",
            "Requirement already satisfied: packaging>=20.0 in /usr/local/lib/python3.10/dist-packages (from matplotlib!=3.6.1,>=3.4->seaborn) (24.1)\n",
            "Requirement already satisfied: pillow>=6.2.0 in /usr/local/lib/python3.10/dist-packages (from matplotlib!=3.6.1,>=3.4->seaborn) (10.4.0)\n",
            "Requirement already satisfied: pyparsing>=2.3.1 in /usr/local/lib/python3.10/dist-packages (from matplotlib!=3.6.1,>=3.4->seaborn) (3.1.4)\n",
            "Requirement already satisfied: python-dateutil>=2.7 in /usr/local/lib/python3.10/dist-packages (from matplotlib!=3.6.1,>=3.4->seaborn) (2.8.2)\n",
            "Requirement already satisfied: pytz>=2020.1 in /usr/local/lib/python3.10/dist-packages (from pandas>=1.2->seaborn) (2024.2)\n",
            "Requirement already satisfied: tzdata>=2022.1 in /usr/local/lib/python3.10/dist-packages (from pandas>=1.2->seaborn) (2024.1)\n",
            "Requirement already satisfied: six>=1.5 in /usr/local/lib/python3.10/dist-packages (from python-dateutil>=2.7->matplotlib!=3.6.1,>=3.4->seaborn) (1.16.0)\n"
          ]
        }
      ]
    },
    {
      "cell_type": "code",
      "source": [
        "import seaborn as sns\n",
        "import matplotlib.pyplot as plt\n",
        "sns.pairplot(five, vars=['Trip Seconds', 'Trip Miles'], hue='Trip Miles')\n",
        "# plt.show()"
      ],
      "metadata": {
        "id": "yRItvwVc-RIp",
        "colab": {
          "base_uri": "https://localhost:8080/",
          "height": 529
        },
        "outputId": "7c84c6aa-fdae-4c4a-fc60-14b20f3e1a28"
      },
      "execution_count": null,
      "outputs": [
        {
          "output_type": "execute_result",
          "data": {
            "text/plain": [
              "<seaborn.axisgrid.PairGrid at 0x7df5eb8771f0>"
            ]
          },
          "metadata": {},
          "execution_count": 49
        },
        {
          "output_type": "display_data",
          "data": {
            "text/plain": [
              "<Figure size 580.625x500 with 6 Axes>"
            ],
            "image/png": "[encoded data removed]"
          },
          "metadata": {}
        }
      ]
    },
    {
      "cell_type": "code",
      "source": [
        "!pip install pandas"
      ],
      "metadata": {
        "colab": {
          "base_uri": "https://localhost:8080/"
        },
        "id": "fy_vPnwAFGgY",
        "outputId": "4d1e4b75-b9b1-4878-a5b9-dd85d31f948c"
      },
      "execution_count": null,
      "outputs": [
        {
          "output_type": "stream",
          "name": "stdout",
          "text": [
            "Requirement already satisfied: pandas in /usr/local/lib/python3.10/dist-packages (2.1.4)\n",
            "Requirement already satisfied: numpy<2,>=1.22.4 in /usr/local/lib/python3.10/dist-packages (from pandas) (1.26.4)\n",
            "Requirement already satisfied: python-dateutil>=2.8.2 in /usr/local/lib/python3.10/dist-packages (from pandas) (2.8.2)\n",
            "Requirement already satisfied: pytz>=2020.1 in /usr/local/lib/python3.10/dist-packages (from pandas) (2024.2)\n",
            "Requirement already satisfied: tzdata>=2022.1 in /usr/local/lib/python3.10/dist-packages (from pandas) (2024.1)\n",
            "Requirement already satisfied: six>=1.5 in /usr/local/lib/python3.10/dist-packages (from python-dateutil>=2.8.2->pandas) (1.16.0)\n"
          ]
        }
      ]
    },
    {
      "cell_type": "code",
      "source": [
        "from google.colab import drive\n",
        "drive.mount('/content/drive')"
      ],
      "metadata": {
        "colab": {
          "base_uri": "https://localhost:8080/"
        },
        "id": "_FCuVbOiFQ9v",
        "outputId": "9e154da1-10b4-478f-9eed-549d1848b788"
      },
      "execution_count": null,
      "outputs": [
        {
          "output_type": "stream",
          "name": "stdout",
          "text": [
            "Mounted at /content/drive\n"
          ]
        }
      ]
    },
    {
      "cell_type": "code",
      "source": [
        "import pandas as pd\n",
        "df = pd.read_csv('/content/drive/My Drive/Colab Notebooks/data/rideshare_2022_raw_with_problematic_dates.csv')\n",
        "df.tail(10)"
      ],
      "metadata": {
        "colab": {
          "base_uri": "https://localhost:8080/",
          "height": 794
        },
        "id": "6mzJaX90FwkW",
        "outputId": "a67e9e43-bca9-43d2-a4b9-3a0035a49861"
      },
      "execution_count": null,
      "outputs": [
        {
          "output_type": "execute_result",
          "data": {
            "text/plain": [
              "                                         Trip ID    Trip Start Timestamp  \\\n",
              "691088  a9a430fa0299447286e9ef8f059943b9aa8c3b01  12/31/2022 11:45:00 PM   \n",
              "691089  b47ec92aab303d25a6bf6582415a6f4e04ad4eb7  12/31/2022 11:45:00 PM   \n",
              "691090  bf1db02bb45bed585268230a058ab88cc3469fb4  12/31/2022 11:45:00 PM   \n",
              "691091  c7d85af3607e891ed2ddc34d6f77f5d05d59cfd6  12/31/2022 11:45:00 PM   \n",
              "691092  d1e68638f1c042aae18de7b3b4743d472a31ca15  12/31/2022 11:45:00 PM   \n",
              "691093  d9ef6950b69863d6dfcf90c3e51699acdfe95e28  12/31/2022 11:45:00 PM   \n",
              "691094  e27e62a864d1df33f45a61d41aa032ce6a7961cf  12/31/2022 11:45:00 PM   \n",
              "691095  ea5210285b616ed79fa0ff425beed8444a855eb4  12/31/2022 11:45:00 PM   \n",
              "691096  f38b06ee0def89c7167bafade4725b1a3910ec22  12/31/2022 11:45:00 PM   \n",
              "691097  fc1437605def2bf850cd02631cd9d422b78d28ad  12/31/2022 11:45:00 PM   \n",
              "\n",
              "            Trip End Timestamp  Trip Seconds  Trip Miles  Pickup Census Tract  \\\n",
              "691088  12/31/2022 11:45:00 PM         497.0         1.7         1.703122e+10   \n",
              "691089  12/31/2022 11:45:00 PM         529.0         1.3         1.703106e+10   \n",
              "691090  12/31/2022 11:45:00 PM         624.0         3.0         1.703107e+10   \n",
              "691091  12/31/2022 11:45:00 PM         519.0         0.7         1.703106e+10   \n",
              "691092        01/01/2023 00:15        1702.0        24.5                  NaN   \n",
              "691093  12/31/2022 11:45:00 PM         258.0         0.5         1.703108e+10   \n",
              "691094  12/31/2022 11:45:00 PM          97.0         0.2         1.703184e+10   \n",
              "691095        01/01/2023 00:15        1653.0        18.7                  NaN   \n",
              "691096        01/01/2023 00:15        1027.0         6.7                  NaN   \n",
              "691097  12/31/2022 11:45:00 PM         269.0         1.3                  NaN   \n",
              "\n",
              "        Dropoff Census Tract  Pickup Community Area  Dropoff Community Area  \\\n",
              "691088          1.703124e+10                   22.0                    24.0   \n",
              "691089          1.703106e+10                    6.0                     6.0   \n",
              "691090          1.703108e+10                    7.0                     8.0   \n",
              "691091          1.703107e+10                    6.0                     7.0   \n",
              "691092                   NaN                    NaN                     7.0   \n",
              "691093          1.703108e+10                    8.0                     8.0   \n",
              "691094          1.703132e+10                   32.0                    32.0   \n",
              "691095                   NaN                   60.0                     NaN   \n",
              "691096                   NaN                   28.0                     6.0   \n",
              "691097                   NaN                    NaN                     9.0   \n",
              "\n",
              "        Fare  ...  Additional Charges  Trip Total  Shared Trip Authorized  \\\n",
              "691088   5.0  ...                2.91        7.91                       0   \n",
              "691089   7.5  ...                1.26        8.76                       0   \n",
              "691090   7.5  ...                3.19       10.69                       0   \n",
              "691091   5.0  ...                2.91        7.91                       0   \n",
              "691092  25.0  ...                8.44       40.44                       0   \n",
              "691093   5.0  ...                2.91       10.91                       0   \n",
              "691094   2.5  ...                3.98        6.48                       0   \n",
              "691095  22.5  ...                0.64       23.14                       1   \n",
              "691096  15.0  ...                4.63       24.63                       0   \n",
              "691097   5.0  ...                3.03        8.03                       0   \n",
              "\n",
              "        Trips Pooled  Pickup Centroid Latitude  Pickup Centroid Longitude  \\\n",
              "691088             1                 41.921126                 -87.699754   \n",
              "691089             1                 41.943237                 -87.643471   \n",
              "691090             1                 41.929078                 -87.646293   \n",
              "691091             1                 41.936159                 -87.661265   \n",
              "691092             1                       NaN                        NaN   \n",
              "691093             1                 41.890922                 -87.618868   \n",
              "691094             1                 41.880994                 -87.632746   \n",
              "691095             1                 41.836150                 -87.648788   \n",
              "691096             1                 41.874005                 -87.663518   \n",
              "691097             1                       NaN                        NaN   \n",
              "\n",
              "                    Pickup Centroid Location Dropoff Centroid Latitude  \\\n",
              "691088  POINT (-87.6997544065 41.9211259143)                 41.906026   \n",
              "691089  POINT (-87.6434709559 41.9432371225)                 41.949140   \n",
              "691090  POINT (-87.6462934762 41.9290776551)                 41.900221   \n",
              "691091   POINT (-87.6612652184 41.936159071)                 41.928967   \n",
              "691092                                   NaN                 41.922686   \n",
              "691093  POINT (-87.6188683546 41.8909220259)                 41.890922   \n",
              "691094  POINT (-87.6327464887 41.8809944707)                 41.877406   \n",
              "691095  POINT (-87.6487879519 41.8361501547)                       NaN   \n",
              "691096   POINT (-87.6635175498 41.874005383)                 41.944227   \n",
              "691097                                   NaN                 42.007613   \n",
              "\n",
              "        Dropoff Centroid Longitude             Dropoff Centroid Location  \n",
              "691088                  -87.675312   POINT (-87.6753116216 41.906025969)  \n",
              "691089                  -87.656804  POINT (-87.6568039088 41.9491397709)  \n",
              "691090                  -87.629105  POINT (-87.6291051864 41.9002212967)  \n",
              "691091                  -87.656157  POINT (-87.6561568309 41.9289672664)  \n",
              "691092                  -87.649489  POINT (-87.6494887289 41.9226862843)  \n",
              "691093                  -87.618868  POINT (-87.6188683546 41.8909220259)  \n",
              "691094                  -87.621972  POINT (-87.6219716519 41.8774061234)  \n",
              "691095                         NaN                                   NaN  \n",
              "691096                  -87.655998  POINT (-87.6559981815 41.9442266014)  \n",
              "691097                  -87.813781  POINT (-87.8137810343 42.0076125931)  \n",
              "\n",
              "[10 rows x 21 columns]"
            ],
            "text/html": [
              "\n",
              "  <div id=\"df-18214b33-ade4-49f9-b863-d3bd72231700\" class=\"colab-df-container\">\n",
              "    <div>\n",
              "<style scoped>\n",
              "    .dataframe tbody tr th:only-of-type {\n",
              "        vertical-align: middle;\n",
              "    }\n",
              "\n",
              "    .dataframe tbody tr th {\n",
              "        vertical-align: top;\n",
              "    }\n",
              "\n",
              "    .dataframe thead th {\n",
              "        text-align: right;\n",
              "    }\n",
              "</style>\n",
              "<table border=\"1\" class=\"dataframe\">\n",
              "  <thead>\n",
              "    <tr style=\"text-align: right;\">\n",
              "      <th></th>\n",
              "      <th>Trip ID</th>\n",
              "      <th>Trip Start Timestamp</th>\n",
              "      <th>Trip End Timestamp</th>\n",
              "      <th>Trip Seconds</th>\n",
              "      <th>Trip Miles</th>\n",
              "      <th>Pickup Census Tract</th>\n",
              "      <th>Dropoff Census Tract</th>\n",
              "      <th>Pickup Community Area</th>\n",
              "      <th>Dropoff Community Area</th>\n",
              "      <th>Fare</th>\n",
              "      <th>...</th>\n",
              "      <th>Additional Charges</th>\n",
              "      <th>Trip Total</th>\n",
              "      <th>Shared Trip Authorized</th>\n",
              "      <th>Trips Pooled</th>\n",
              "      <th>Pickup Centroid Latitude</th>\n",
              "      <th>Pickup Centroid Longitude</th>\n",
              "      <th>Pickup Centroid Location</th>\n",
              "      <th>Dropoff Centroid Latitude</th>\n",
              "      <th>Dropoff Centroid Longitude</th>\n",
              "      <th>Dropoff Centroid Location</th>\n",
              "    </tr>\n",
              "  </thead>\n",
              "  <tbody>\n",
              "    <tr>\n",
              "      <th>691088</th>\n",
              "      <td>a9a430fa0299447286e9ef8f059943b9aa8c3b01</td>\n",
              "      <td>12/31/2022 11:45:00 PM</td>\n",
              "      <td>12/31/2022 11:45:00 PM</td>\n",
              "      <td>497.0</td>\n",
              "      <td>1.7</td>\n",
              "      <td>1.703122e+10</td>\n",
              "      <td>1.703124e+10</td>\n",
              "      <td>22.0</td>\n",
              "      <td>24.0</td>\n",
              "      <td>5.0</td>\n",
              "      <td>...</td>\n",
              "      <td>2.91</td>\n",
              "      <td>7.91</td>\n",
              "      <td>0</td>\n",
              "      <td>1</td>\n",
              "      <td>41.921126</td>\n",
              "      <td>-87.699754</td>\n",
              "      <td>POINT (-87.6997544065 41.9211259143)</td>\n",
              "      <td>41.906026</td>\n",
              "      <td>-87.675312</td>\n",
              "      <td>POINT (-87.6753116216 41.906025969)</td>\n",
              "    </tr>\n",
              "    <tr>\n",
              "      <th>691089</th>\n",
              "      <td>b47ec92aab303d25a6bf6582415a6f4e04ad4eb7</td>\n",
              "      <td>12/31/2022 11:45:00 PM</td>\n",
              "      <td>12/31/2022 11:45:00 PM</td>\n",
              "      <td>529.0</td>\n",
              "      <td>1.3</td>\n",
              "      <td>1.703106e+10</td>\n",
              "      <td>1.703106e+10</td>\n",
              "      <td>6.0</td>\n",
              "      <td>6.0</td>\n",
              "      <td>7.5</td>\n",
              "      <td>...</td>\n",
              "      <td>1.26</td>\n",
              "      <td>8.76</td>\n",
              "      <td>0</td>\n",
              "      <td>1</td>\n",
              "      <td>41.943237</td>\n",
              "      <td>-87.643471</td>\n",
              "      <td>POINT (-87.6434709559 41.9432371225)</td>\n",
              "      <td>41.949140</td>\n",
              "      <td>-87.656804</td>\n",
              "      <td>POINT (-87.6568039088 41.9491397709)</td>\n",
              "    </tr>\n",
              "    <tr>\n",
              "      <th>691090</th>\n",
              "      <td>bf1db02bb45bed585268230a058ab88cc3469fb4</td>\n",
              "      <td>12/31/2022 11:45:00 PM</td>\n",
              "      <td>12/31/2022 11:45:00 PM</td>\n",
              "      <td>624.0</td>\n",
              "      <td>3.0</td>\n",
              "      <td>1.703107e+10</td>\n",
              "      <td>1.703108e+10</td>\n",
              "      <td>7.0</td>\n",
              "      <td>8.0</td>\n",
              "      <td>7.5</td>\n",
              "      <td>...</td>\n",
              "      <td>3.19</td>\n",
              "      <td>10.69</td>\n",
              "      <td>0</td>\n",
              "      <td>1</td>\n",
              "      <td>41.929078</td>\n",
              "      <td>-87.646293</td>\n",
              "      <td>POINT (-87.6462934762 41.9290776551)</td>\n",
              "      <td>41.900221</td>\n",
              "      <td>-87.629105</td>\n",
              "      <td>POINT (-87.6291051864 41.9002212967)</td>\n",
              "    </tr>\n",
              "    <tr>\n",
              "      <th>691091</th>\n",
              "      <td>c7d85af3607e891ed2ddc34d6f77f5d05d59cfd6</td>\n",
              "      <td>12/31/2022 11:45:00 PM</td>\n",
              "      <td>12/31/2022 11:45:00 PM</td>\n",
              "      <td>519.0</td>\n",
              "      <td>0.7</td>\n",
              "      <td>1.703106e+10</td>\n",
              "      <td>1.703107e+10</td>\n",
              "      <td>6.0</td>\n",
              "      <td>7.0</td>\n",
              "      <td>5.0</td>\n",
              "      <td>...</td>\n",
              "      <td>2.91</td>\n",
              "      <td>7.91</td>\n",
              "      <td>0</td>\n",
              "      <td>1</td>\n",
              "      <td>41.936159</td>\n",
              "      <td>-87.661265</td>\n",
              "      <td>POINT (-87.6612652184 41.936159071)</td>\n",
              "      <td>41.928967</td>\n",
              "      <td>-87.656157</td>\n",
              "      <td>POINT (-87.6561568309 41.9289672664)</td>\n",
              "    </tr>\n",
              "    <tr>\n",
              "      <th>691092</th>\n",
              "      <td>d1e68638f1c042aae18de7b3b4743d472a31ca15</td>\n",
              "      <td>12/31/2022 11:45:00 PM</td>\n",
              "      <td>01/01/2023 00:15</td>\n",
              "      <td>1702.0</td>\n",
              "      <td>24.5</td>\n",
              "      <td>NaN</td>\n",
              "      <td>NaN</td>\n",
              "      <td>NaN</td>\n",
              "      <td>7.0</td>\n",
              "      <td>25.0</td>\n",
              "      <td>...</td>\n",
              "      <td>8.44</td>\n",
              "      <td>40.44</td>\n",
              "      <td>0</td>\n",
              "      <td>1</td>\n",
              "      <td>NaN</td>\n",
              "      <td>NaN</td>\n",
              "      <td>NaN</td>\n",
              "      <td>41.922686</td>\n",
              "      <td>-87.649489</td>\n",
              "      <td>POINT (-87.6494887289 41.9226862843)</td>\n",
              "    </tr>\n",
              "    <tr>\n",
              "      <th>691093</th>\n",
              "      <td>d9ef6950b69863d6dfcf90c3e51699acdfe95e28</td>\n",
              "      <td>12/31/2022 11:45:00 PM</td>\n",
              "      <td>12/31/2022 11:45:00 PM</td>\n",
              "      <td>258.0</td>\n",
              "      <td>0.5</td>\n",
              "      <td>1.703108e+10</td>\n",
              "      <td>1.703108e+10</td>\n",
              "      <td>8.0</td>\n",
              "      <td>8.0</td>\n",
              "      <td>5.0</td>\n",
              "      <td>...</td>\n",
              "      <td>2.91</td>\n",
              "      <td>10.91</td>\n",
              "      <td>0</td>\n",
              "      <td>1</td>\n",
              "      <td>41.890922</td>\n",
              "      <td>-87.618868</td>\n",
              "      <td>POINT (-87.6188683546 41.8909220259)</td>\n",
              "      <td>41.890922</td>\n",
              "      <td>-87.618868</td>\n",
              "      <td>POINT (-87.6188683546 41.8909220259)</td>\n",
              "    </tr>\n",
              "    <tr>\n",
              "      <th>691094</th>\n",
              "      <td>e27e62a864d1df33f45a61d41aa032ce6a7961cf</td>\n",
              "      <td>12/31/2022 11:45:00 PM</td>\n",
              "      <td>12/31/2022 11:45:00 PM</td>\n",
              "      <td>97.0</td>\n",
              "      <td>0.2</td>\n",
              "      <td>1.703184e+10</td>\n",
              "      <td>1.703132e+10</td>\n",
              "      <td>32.0</td>\n",
              "      <td>32.0</td>\n",
              "      <td>2.5</td>\n",
              "      <td>...</td>\n",
              "      <td>3.98</td>\n",
              "      <td>6.48</td>\n",
              "      <td>0</td>\n",
              "      <td>1</td>\n",
              "      <td>41.880994</td>\n",
              "      <td>-87.632746</td>\n",
              "      <td>POINT (-87.6327464887 41.8809944707)</td>\n",
              "      <td>41.877406</td>\n",
              "      <td>-87.621972</td>\n",
              "      <td>POINT (-87.6219716519 41.8774061234)</td>\n",
              "    </tr>\n",
              "    <tr>\n",
              "      <th>691095</th>\n",
              "      <td>ea5210285b616ed79fa0ff425beed8444a855eb4</td>\n",
              "      <td>12/31/2022 11:45:00 PM</td>\n",
              "      <td>01/01/2023 00:15</td>\n",
              "      <td>1653.0</td>\n",
              "      <td>18.7</td>\n",
              "      <td>NaN</td>\n",
              "      <td>NaN</td>\n",
              "      <td>60.0</td>\n",
              "      <td>NaN</td>\n",
              "      <td>22.5</td>\n",
              "      <td>...</td>\n",
              "      <td>0.64</td>\n",
              "      <td>23.14</td>\n",
              "      <td>1</td>\n",
              "      <td>1</td>\n",
              "      <td>41.836150</td>\n",
              "      <td>-87.648788</td>\n",
              "      <td>POINT (-87.6487879519 41.8361501547)</td>\n",
              "      <td>NaN</td>\n",
              "      <td>NaN</td>\n",
              "      <td>NaN</td>\n",
              "    </tr>\n",
              "    <tr>\n",
              "      <th>691096</th>\n",
              "      <td>f38b06ee0def89c7167bafade4725b1a3910ec22</td>\n",
              "      <td>12/31/2022 11:45:00 PM</td>\n",
              "      <td>01/01/2023 00:15</td>\n",
              "      <td>1027.0</td>\n",
              "      <td>6.7</td>\n",
              "      <td>NaN</td>\n",
              "      <td>NaN</td>\n",
              "      <td>28.0</td>\n",
              "      <td>6.0</td>\n",
              "      <td>15.0</td>\n",
              "      <td>...</td>\n",
              "      <td>4.63</td>\n",
              "      <td>24.63</td>\n",
              "      <td>0</td>\n",
              "      <td>1</td>\n",
              "      <td>41.874005</td>\n",
              "      <td>-87.663518</td>\n",
              "      <td>POINT (-87.6635175498 41.874005383)</td>\n",
              "      <td>41.944227</td>\n",
              "      <td>-87.655998</td>\n",
              "      <td>POINT (-87.6559981815 41.9442266014)</td>\n",
              "    </tr>\n",
              "    <tr>\n",
              "      <th>691097</th>\n",
              "      <td>fc1437605def2bf850cd02631cd9d422b78d28ad</td>\n",
              "      <td>12/31/2022 11:45:00 PM</td>\n",
              "      <td>12/31/2022 11:45:00 PM</td>\n",
              "      <td>269.0</td>\n",
              "      <td>1.3</td>\n",
              "      <td>NaN</td>\n",
              "      <td>NaN</td>\n",
              "      <td>NaN</td>\n",
              "      <td>9.0</td>\n",
              "      <td>5.0</td>\n",
              "      <td>...</td>\n",
              "      <td>3.03</td>\n",
              "      <td>8.03</td>\n",
              "      <td>0</td>\n",
              "      <td>1</td>\n",
              "      <td>NaN</td>\n",
              "      <td>NaN</td>\n",
              "      <td>NaN</td>\n",
              "      <td>42.007613</td>\n",
              "      <td>-87.813781</td>\n",
              "      <td>POINT (-87.8137810343 42.0076125931)</td>\n",
              "    </tr>\n",
              "  </tbody>\n",
              "</table>\n",
              "<p>10 rows × 21 columns</p>\n",
              "</div>\n",
              "    <div class=\"colab-df-buttons\">\n",
              "\n",
              "  <div class=\"colab-df-container\">\n",
              "    <button class=\"colab-df-convert\" onclick=\"convertToInteractive('df-18214b33-ade4-49f9-b863-d3bd72231700')\"\n",
              "            title=\"Convert this dataframe to an interactive table.\"\n",
              "            style=\"display:none;\">\n",
              "\n",
              "  <svg xmlns=\"http://www.w3.org/2000/svg\" height=\"24px\" viewBox=\"0 -960 960 960\">\n",
              "    <path d=\"M120-120v-720h720v720H120Zm60-500h600v-160H180v160Zm220 220h160v-160H400v160Zm0 220h160v-160H400v160ZM180-400h160v-160H180v160Zm440 0h160v-160H620v160ZM180-180h160v-160H180v160Zm440 0h160v-160H620v160Z\"/>\n",
              "  </svg>\n",
              "    </button>\n",
              "\n",
              "  <style>\n",
              "    .colab-df-container {\n",
              "      display:flex;\n",
              "      gap: 12px;\n",
              "    }\n",
              "\n",
              "    .colab-df-convert {\n",
              "      background-color: #E8F0FE;\n",
              "      border: none;\n",
              "      border-radius: 50%;\n",
              "      cursor: pointer;\n",
              "      display: none;\n",
              "      fill: #1967D2;\n",
              "      height: 32px;\n",
              "      padding: 0 0 0 0;\n",
              "      width: 32px;\n",
              "    }\n",
              "\n",
              "    .colab-df-convert:hover {\n",
              "      background-color: #E2EBFA;\n",
              "      box-shadow: 0px 1px 2px rgba(60, 64, 67, 0.3), 0px 1px 3px 1px rgba(60, 64, 67, 0.15);\n",
              "      fill: #174EA6;\n",
              "    }\n",
              "\n",
              "    .colab-df-buttons div {\n",
              "      margin-bottom: 4px;\n",
              "    }\n",
              "\n",
              "    [theme=dark] .colab-df-convert {\n",
              "      background-color: #3B4455;\n",
              "      fill: #D2E3FC;\n",
              "    }\n",
              "\n",
              "    [theme=dark] .colab-df-convert:hover {\n",
              "      background-color: #434B5C;\n",
              "      box-shadow: 0px 1px 3px 1px rgba(0, 0, 0, 0.15);\n",
              "      filter: drop-shadow(0px 1px 2px rgba(0, 0, 0, 0.3));\n",
              "      fill: #FFFFFF;\n",
              "    }\n",
              "  </style>\n",
              "\n",
              "    <script>\n",
              "      const buttonEl =\n",
              "        document.querySelector('#df-18214b33-ade4-49f9-b863-d3bd72231700 button.colab-df-convert');\n",
              "      buttonEl.style.display =\n",
              "        google.colab.kernel.accessAllowed ? 'block' : 'none';\n",
              "\n",
              "      async function convertToInteractive(key) {\n",
              "        const element = document.querySelector('#df-18214b33-ade4-49f9-b863-d3bd72231700');\n",
              "        const dataTable =\n",
              "          await google.colab.kernel.invokeFunction('convertToInteractive',\n",
              "                                                    [key], {});\n",
              "        if (!dataTable) return;\n",
              "\n",
              "        const docLinkHtml = 'Like what you see? Visit the ' +\n",
              "          '<a target=\"_blank\" href=https://colab.research.google.com/notebooks/data_table.ipynb>data table notebook</a>'\n",
              "          + ' to learn more about interactive tables.';\n",
              "        element.innerHTML = '';\n",
              "        dataTable['output_type'] = 'display_data';\n",
              "        await google.colab.output.renderOutput(dataTable, element);\n",
              "        const docLink = document.createElement('div');\n",
              "        docLink.innerHTML = docLinkHtml;\n",
              "        element.appendChild(docLink);\n",
              "      }\n",
              "    </script>\n",
              "  </div>\n",
              "\n",
              "\n",
              "<div id=\"df-05e85d60-8be8-4961-a7dd-d92f8ba3bcee\">\n",
              "  <button class=\"colab-df-quickchart\" onclick=\"quickchart('df-05e85d60-8be8-4961-a7dd-d92f8ba3bcee')\"\n",
              "            title=\"Suggest charts\"\n",
              "            style=\"display:none;\">\n",
              "\n",
              "<svg xmlns=\"http://www.w3.org/2000/svg\" height=\"24px\"viewBox=\"0 0 24 24\"\n",
              "     width=\"24px\">\n",
              "    <g>\n",
              "        <path d=\"M19 3H5c-1.1 0-2 .9-2 2v14c0 1.1.9 2 2 2h14c1.1 0 2-.9 2-2V5c0-1.1-.9-2-2-2zM9 17H7v-7h2v7zm4 0h-2V7h2v10zm4 0h-2v-4h2v4z\"/>\n",
              "    </g>\n",
              "</svg>\n",
              "  </button>\n",
              "\n",
              "<style>\n",
              "  .colab-df-quickchart {\n",
              "      --bg-color: #E8F0FE;\n",
              "      --fill-color: #1967D2;\n",
              "      --hover-bg-color: #E2EBFA;\n",
              "      --hover-fill-color: #174EA6;\n",
              "      --disabled-fill-color: #AAA;\n",
              "      --disabled-bg-color: #DDD;\n",
              "  }\n",
              "\n",
              "  [theme=dark] .colab-df-quickchart {\n",
              "      --bg-color: #3B4455;\n",
              "      --fill-color: #D2E3FC;\n",
              "      --hover-bg-color: #434B5C;\n",
              "      --hover-fill-color: #FFFFFF;\n",
              "      --disabled-bg-color: #3B4455;\n",
              "      --disabled-fill-color: #666;\n",
              "  }\n",
              "\n",
              "  .colab-df-quickchart {\n",
              "    background-color: var(--bg-color);\n",
              "    border: none;\n",
              "    border-radius: 50%;\n",
              "    cursor: pointer;\n",
              "    display: none;\n",
              "    fill: var(--fill-color);\n",
              "    height: 32px;\n",
              "    padding: 0;\n",
              "    width: 32px;\n",
              "  }\n",
              "\n",
              "  .colab-df-quickchart:hover {\n",
              "    background-color: var(--hover-bg-color);\n",
              "    box-shadow: 0 1px 2px rgba(60, 64, 67, 0.3), 0 1px 3px 1px rgba(60, 64, 67, 0.15);\n",
              "    fill: var(--button-hover-fill-color);\n",
              "  }\n",
              "\n",
              "  .colab-df-quickchart-complete:disabled,\n",
              "  .colab-df-quickchart-complete:disabled:hover {\n",
              "    background-color: var(--disabled-bg-color);\n",
              "    fill: var(--disabled-fill-color);\n",
              "    box-shadow: none;\n",
              "  }\n",
              "\n",
              "  .colab-df-spinner {\n",
              "    border: 2px solid var(--fill-color);\n",
              "    border-color: transparent;\n",
              "    border-bottom-color: var(--fill-color);\n",
              "    animation:\n",
              "      spin 1s steps(1) infinite;\n",
              "  }\n",
              "\n",
              "  @keyframes spin {\n",
              "    0% {\n",
              "      border-color: transparent;\n",
              "      border-bottom-color: var(--fill-color);\n",
              "      border-left-color: var(--fill-color);\n",
              "    }\n",
              "    20% {\n",
              "      border-color: transparent;\n",
              "      border-left-color: var(--fill-color);\n",
              "      border-top-color: var(--fill-color);\n",
              "    }\n",
              "    30% {\n",
              "      border-color: transparent;\n",
              "      border-left-color: var(--fill-color);\n",
              "      border-top-color: var(--fill-color);\n",
              "      border-right-color: var(--fill-color);\n",
              "    }\n",
              "    40% {\n",
              "      border-color: transparent;\n",
              "      border-right-color: var(--fill-color);\n",
              "      border-top-color: var(--fill-color);\n",
              "    }\n",
              "    60% {\n",
              "      border-color: transparent;\n",
              "      border-right-color: var(--fill-color);\n",
              "    }\n",
              "    80% {\n",
              "      border-color: transparent;\n",
              "      border-right-color: var(--fill-color);\n",
              "      border-bottom-color: var(--fill-color);\n",
              "    }\n",
              "    90% {\n",
              "      border-color: transparent;\n",
              "      border-bottom-color: var(--fill-color);\n",
              "    }\n",
              "  }\n",
              "</style>\n",
              "\n",
              "  <script>\n",
              "    async function quickchart(key) {\n",
              "      const quickchartButtonEl =\n",
              "        document.querySelector('#' + key + ' button');\n",
              "      quickchartButtonEl.disabled = true;  // To prevent multiple clicks.\n",
              "      quickchartButtonEl.classList.add('colab-df-spinner');\n",
              "      try {\n",
              "        const charts = await google.colab.kernel.invokeFunction(\n",
              "            'suggestCharts', [key], {});\n",
              "      } catch (error) {\n",
              "        console.error('Error during call to suggestCharts:', error);\n",
              "      }\n",
              "      quickchartButtonEl.classList.remove('colab-df-spinner');\n",
              "      quickchartButtonEl.classList.add('colab-df-quickchart-complete');\n",
              "    }\n",
              "    (() => {\n",
              "      let quickchartButtonEl =\n",
              "        document.querySelector('#df-05e85d60-8be8-4961-a7dd-d92f8ba3bcee button');\n",
              "      quickchartButtonEl.style.display =\n",
              "        google.colab.kernel.accessAllowed ? 'block' : 'none';\n",
              "    })();\n",
              "  </script>\n",
              "</div>\n",
              "\n",
              "    </div>\n",
              "  </div>\n"
            ],
            "application/vnd.google.colaboratory.intrinsic+json": {
              "type": "dataframe"
            }
          },
          "metadata": {},
          "execution_count": 9
        }
      ]
    },
    {
      "cell_type": "code",
      "source": [
        "!pip install pandas"
      ],
      "metadata": {
        "colab": {
          "base_uri": "https://localhost:8080/"
        },
        "id": "EHuTNcbVGiWW",
        "outputId": "c7ff179f-3ef0-4839-a7d7-7de09c7ce6bf"
      },
      "execution_count": null,
      "outputs": [
        {
          "output_type": "stream",
          "name": "stdout",
          "text": [
            "Requirement already satisfied: pandas in /usr/local/lib/python3.10/dist-packages (2.1.4)\n",
            "Requirement already satisfied: numpy<2,>=1.22.4 in /usr/local/lib/python3.10/dist-packages (from pandas) (1.26.4)\n",
            "Requirement already satisfied: python-dateutil>=2.8.2 in /usr/local/lib/python3.10/dist-packages (from pandas) (2.8.2)\n",
            "Requirement already satisfied: pytz>=2020.1 in /usr/local/lib/python3.10/dist-packages (from pandas) (2024.2)\n",
            "Requirement already satisfied: tzdata>=2022.1 in /usr/local/lib/python3.10/dist-packages (from pandas) (2024.1)\n",
            "Requirement already satisfied: six>=1.5 in /usr/local/lib/python3.10/dist-packages (from python-dateutil>=2.8.2->pandas) (1.16.0)\n"
          ]
        }
      ]
    },
    {
      "cell_type": "code",
      "source": [
        "print(df.columns)"
      ],
      "metadata": {
        "colab": {
          "base_uri": "https://localhost:8080/"
        },
        "id": "vfM0HyHHG9JS",
        "outputId": "efcdc329-1272-474d-daf5-72262e4adfe6"
      },
      "execution_count": null,
      "outputs": [
        {
          "output_type": "stream",
          "name": "stdout",
          "text": [
            "Index(['Trip ID', 'Trip Start Timestamp', 'Trip End Timestamp', 'Trip Seconds',\n",
            "       'Trip Miles', 'Pickup Census Tract', 'Dropoff Census Tract',\n",
            "       'Pickup Community Area', 'Dropoff Community Area', 'Fare', 'Tip',\n",
            "       'Additional Charges', 'Trip Total', 'Shared Trip Authorized',\n",
            "       'Trips Pooled', 'Pickup Centroid Latitude', 'Pickup Centroid Longitude',\n",
            "       'Pickup Centroid Location', 'Dropoff Centroid Latitude',\n",
            "       'Dropoff Centroid Longitude', 'Dropoff Centroid Location'],\n",
            "      dtype='object')\n"
          ]
        }
      ]
    },
    {
      "cell_type": "code",
      "source": [
        "trips = df['Trip Seconds']\n",
        "tripm = df['Trip Miles']\n",
        "print(trips.head())\n",
        "print(tripm.head())\n",
        "result=trips.corr(tripm)\n",
        "print(result)\n"
      ],
      "metadata": {
        "colab": {
          "base_uri": "https://localhost:8080/"
        },
        "id": "IhopizFFHOQi",
        "outputId": "459587e5-47a3-4884-d5de-d26f077c486d"
      },
      "execution_count": null,
      "outputs": [
        {
          "output_type": "stream",
          "name": "stdout",
          "text": [
            "0    3905.0\n",
            "1    2299.0\n",
            "2     275.0\n",
            "3     243.0\n",
            "4     364.0\n",
            "Name: Trip Seconds, dtype: float64\n",
            "0    44.5\n",
            "1    25.0\n",
            "2     1.5\n",
            "3     1.0\n",
            "4     1.3\n",
            "Name: Trip Miles, dtype: float64\n",
            "0.8269083487280461\n"
          ]
        }
      ]
    }
  ]
}