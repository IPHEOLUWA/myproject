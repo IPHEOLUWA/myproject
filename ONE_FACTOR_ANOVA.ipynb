{
  "nbformat": 4,
  "nbformat_minor": 0,
  "metadata": {
    "colab": {
      "provenance": [],
      "authorship_tag": "ABX9TyNrObi1669o9Fg+uZegY/Vp",
      "include_colab_link": true
    },
    "kernelspec": {
      "name": "python3",
      "display_name": "Python 3"
    },
    "language_info": {
      "name": "python"
    }
  },
  "cells": [
    {
      "cell_type": "markdown",
      "metadata": {
        "id": "view-in-github",
        "colab_type": "text"
      },
      "source": [
        "<a href=\"https://colab.research.google.com/github/IPHEOLUWA/myproject/blob/main/ONE_FACTOR_ANOVA.ipynb\" target=\"_parent\"><img src=\"https://colab.research.google.com/assets/colab-badge.svg\" alt=\"Open In Colab\"/></a>"
      ]
    },
    {
      "cell_type": "code",
      "execution_count": null,
      "metadata": {
        "colab": {
          "base_uri": "https://localhost:8080/"
        },
        "id": "NORMV_LM85ln",
        "outputId": "f2f6d39a-1afa-4b5c-baba-3f7003d2a54e"
      },
      "outputs": [
        {
          "output_type": "stream",
          "name": "stdout",
          "text": [
            "Requirement already satisfied: scipy in /usr/local/lib/python3.10/dist-packages (1.13.1)\n",
            "Requirement already satisfied: numpy<2.3,>=1.22.4 in /usr/local/lib/python3.10/dist-packages (from scipy) (1.26.4)\n"
          ]
        }
      ],
      "source": [
        "!pip install scipy"
      ]
    },
    {
      "cell_type": "code",
      "source": [
        "import numpy as np\n",
        "import scipy"
      ],
      "metadata": {
        "id": "Wf1LYwWc9ULN"
      },
      "execution_count": null,
      "outputs": []
    },
    {
      "cell_type": "code",
      "source": [
        "dietA = np.array([75,78,74,80,73])\n",
        "dietB = np.array([82,79,85,83,81])\n",
        "dietC = np.array([90,92,91,88,87])\n",
        "\n",
        "f_stat, p_value = scipy.stats.f_oneway(dietA,dietB,dietC)\n",
        "print(f\"The value is {f_stat}\")\n",
        "print(f\"The p_value is {p_value}\")\n"
      ],
      "metadata": {
        "colab": {
          "base_uri": "https://localhost:8080/"
        },
        "id": "uZdfereW9apF",
        "outputId": "87797b31-2b01-439f-ddd5-bea771db0d9d"
      },
      "execution_count": null,
      "outputs": [
        {
          "output_type": "stream",
          "name": "stdout",
          "text": [
            "The value is 39.14606741573031\n",
            "The p_value is 5.510461185975025e-06\n"
          ]
        }
      ]
    },
    {
      "cell_type": "code",
      "source": [
        "if(p_value < 0.05):\n",
        "  print(\"Reject the null hypothesis\")\n",
        "else:\n",
        "  print(\"We do not reject the null hypothesis\")"
      ],
      "metadata": {
        "colab": {
          "base_uri": "https://localhost:8080/"
        },
        "id": "6MsxNMat_nXH",
        "outputId": "b6dbeaa3-4df1-4b55-b9e7-9303e167229c"
      },
      "execution_count": null,
      "outputs": [
        {
          "output_type": "stream",
          "name": "stdout",
          "text": [
            "Reject the null hypothesis\n"
          ]
        }
      ]
    },
    {
      "cell_type": "code",
      "source": [
        "TechniqueA = np.array([85, 87, 89, 90, 88])\n",
        "TechniqueB =np.array([78, 80, 79, 77, 76])\n",
        "TechniqueC = np.array([91, 92, 93, 90, 89])\n",
        "\n",
        "f_stat, p_value = scipy.stats.f_oneway(TechniqueA,TechniqueB,TechniqueC)\n",
        "print(f\"The value is {f_stat}\")\n",
        "print(f\"The p_value is {p_value}\")\n",
        "\n",
        "if(p_value < 0.05):\n",
        "  print(\"Reject the null hypothesis\")\n",
        "else:\n",
        "  print(\"We do not reject the null hypothesis\")\n"
      ],
      "metadata": {
        "colab": {
          "base_uri": "https://localhost:8080/"
        },
        "id": "jJTTzepFB4Gy",
        "outputId": "860a0b8f-fbe6-47dc-8684-f6b7c0560d1d"
      },
      "execution_count": null,
      "outputs": [
        {
          "output_type": "stream",
          "name": "stdout",
          "text": [
            "The value is 79.10344827586192\n",
            "The p_value is 1.228074058454064e-07\n",
            "Reject the null hypothesis\n"
          ]
        }
      ]
    },
    {
      "cell_type": "code",
      "source": [
        "StrategyA = np.array([200, 210, 190, 205, 195])\n",
        "StrategyB = np.array([220, 225, 215, 230, 210])\n",
        "StrategyC =([180, 185, 175, 190, 195])\n",
        "f_stat, p_value = scipy.stats.f_oneway(StrategyA,StrategyB,StrategyC)\n",
        "print(f\"The value is {f_stat}\")\n",
        "print(f\"The p_value is {p_value}\")\n",
        "\n",
        "if(p_value < 0.05):\n",
        "  print(\"Reject the null hypothesis\")\n",
        "else:\n",
        "  print(\"We do not reject the null hypothesis\")\n"
      ],
      "metadata": {
        "colab": {
          "base_uri": "https://localhost:8080/"
        },
        "id": "hw26kh7yCp52",
        "outputId": "1a4f12cc-87f2-4e88-93d4-896908b6e724"
      },
      "execution_count": null,
      "outputs": [
        {
          "output_type": "stream",
          "name": "stdout",
          "text": [
            "The value is 24.66666666666665\n",
            "The p_value is 5.6092922338582576e-05\n",
            "Reject the null hypothesis\n"
          ]
        }
      ]
    }
  ]
}