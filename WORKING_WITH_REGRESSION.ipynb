{
  "nbformat": 4,
  "nbformat_minor": 0,
  "metadata": {
    "colab": {
      "provenance": [],
      "authorship_tag": "ABX9TyOSeliRQ5OoqFhJfjwkEn3a",
      "include_colab_link": true
    },
    "kernelspec": {
      "name": "python3",
      "display_name": "Python 3"
    },
    "language_info": {
      "name": "python"
    }
  },
  "cells": [
    {
      "cell_type": "markdown",
      "metadata": {
        "id": "view-in-github",
        "colab_type": "text"
      },
      "source": [
        "<a href=\"https://colab.research.google.com/github/IPHEOLUWA/myproject/blob/main/WORKING_WITH_REGRESSION.ipynb\" target=\"_parent\"><img src=\"https://colab.research.google.com/assets/colab-badge.svg\" alt=\"Open In Colab\"/></a>"
      ]
    },
    {
      "cell_type": "code",
      "execution_count": null,
      "metadata": {
        "colab": {
          "base_uri": "https://localhost:8080/"
        },
        "id": "DX6jcwsBOs6K",
        "outputId": "e951b899-c336-4e06-9802-7880e97dfeab"
      },
      "outputs": [
        {
          "output_type": "stream",
          "name": "stdout",
          "text": [
            "Mounted at /content/drive\n"
          ]
        }
      ],
      "source": [
        "from google.colab import drive\n",
        "drive.mount('/content/drive')"
      ]
    },
    {
      "cell_type": "code",
      "source": [
        "!pip install scikit-learn"
      ],
      "metadata": {
        "colab": {
          "base_uri": "https://localhost:8080/"
        },
        "id": "fZusCzGaPLEx",
        "outputId": "17657086-18c6-49bb-c7f1-a89bb323d236"
      },
      "execution_count": null,
      "outputs": [
        {
          "output_type": "stream",
          "name": "stdout",
          "text": [
            "Requirement already satisfied: scikit-learn in /usr/local/lib/python3.10/dist-packages (1.5.2)\n",
            "Requirement already satisfied: numpy>=1.19.5 in /usr/local/lib/python3.10/dist-packages (from scikit-learn) (1.26.4)\n",
            "Requirement already satisfied: scipy>=1.6.0 in /usr/local/lib/python3.10/dist-packages (from scikit-learn) (1.13.1)\n",
            "Requirement already satisfied: joblib>=1.2.0 in /usr/local/lib/python3.10/dist-packages (from scikit-learn) (1.4.2)\n",
            "Requirement already satisfied: threadpoolctl>=3.1.0 in /usr/local/lib/python3.10/dist-packages (from scikit-learn) (3.5.0)\n"
          ]
        }
      ]
    },
    {
      "cell_type": "code",
      "source": [
        "import numpy as np\n",
        "import pandas as pd\n",
        "from sklearn.model_selection import train_test_split\n",
        "from sklearn.linear_model import LinearRegression"
      ],
      "metadata": {
        "id": "ryOKd9EPQA2y"
      },
      "execution_count": null,
      "outputs": []
    },
    {
      "cell_type": "markdown",
      "source": [],
      "metadata": {
        "id": "QNqjlt7vajZg"
      }
    },
    {
      "cell_type": "code",
      "source": [],
      "metadata": {
        "id": "95XO8mFFRgHJ"
      },
      "execution_count": null,
      "outputs": []
    },
    {
      "cell_type": "code",
      "source": [
        "df =pd.read_csv('/content/drive/MyDrive/Colab Notebooks/data/rideshare_2022.csv')\n",
        "clean = df.dropna()\n",
        "clean.head()"
      ],
      "metadata": {
        "id": "Ci-fDBVTQ3T_"
      },
      "execution_count": null,
      "outputs": []
    },
    {
      "cell_type": "code",
      "source": [
        "x = clean[['Trip Seconds']]\n",
        "y = clean['Trip Miles']\n",
        "\n",
        "Xtrain,Xtest,Ytrain,Ytest = train_test_split(x,y,test_size=0.2,random_state=42)\n",
        "print(f\"The dataset for train values are: {Xtrain}\")\n",
        "print(f\"The dataset for test values are: {Xtest}\")\n",
        "print(f\"The dataset for test values are: {Ytest}\")"
      ],
      "metadata": {
        "colab": {
          "base_uri": "https://localhost:8080/"
        },
        "id": "EADue_TdUHRZ",
        "outputId": "c6c06562-ea23-418b-cc3e-6dbee3357a51"
      },
      "execution_count": null,
      "outputs": [
        {
          "output_type": "stream",
          "name": "stdout",
          "text": [
            "The dataset for train values are:         Trip Seconds\n",
            "414504         399.0\n",
            "175954         541.0\n",
            "206228         851.0\n",
            "141471         540.0\n",
            "431736        1891.0\n",
            "...              ...\n",
            "487564         726.0\n",
            "682361         463.0\n",
            "250192         776.0\n",
            "277921         334.0\n",
            "232284         463.0\n",
            "\n",
            "[296543 rows x 1 columns]\n",
            "The dataset for test values are:         Trip Seconds\n",
            "238792         673.0\n",
            "382830         637.0\n",
            "477050         387.0\n",
            "256720         880.0\n",
            "505816        2848.0\n",
            "...              ...\n",
            "212407         554.0\n",
            "524518         727.0\n",
            "94730         1074.0\n",
            "541659         508.0\n",
            "624267         410.0\n",
            "\n",
            "[74136 rows x 1 columns]\n",
            "The dataset for test values are: 238792     1.3\n",
            "382830     2.6\n",
            "477050     1.4\n",
            "256720     3.3\n",
            "505816    17.8\n",
            "          ... \n",
            "212407     1.3\n",
            "524518     2.0\n",
            "94730      4.6\n",
            "541659     1.7\n",
            "624267     1.5\n",
            "Name: Trip Miles, Length: 74136, dtype: float64\n"
          ]
        }
      ]
    },
    {
      "cell_type": "code",
      "source": [
        "model = LinearRegression().fit(Xtrain,Ytrain)\n"
      ],
      "metadata": {
        "id": "yShmkUewb82q"
      },
      "execution_count": null,
      "outputs": []
    },
    {
      "cell_type": "code",
      "source": [
        "Ypredict = model.predict(Xtest)\n",
        "print(f\"The predicted values are: {Ypredict}\")"
      ],
      "metadata": {
        "colab": {
          "base_uri": "https://localhost:8080/"
        },
        "id": "-jhKXKzUckJv",
        "outputId": "5ed3b746-05a8-44a1-9fe9-18c5f80a1a12"
      },
      "execution_count": null,
      "outputs": [
        {
          "output_type": "stream",
          "name": "stdout",
          "text": [
            "The predicted values are: [3.20228651 2.97589265 1.40371308 ... 5.72406254 2.16464799 1.5483536 ]\n"
          ]
        }
      ]
    },
    {
      "cell_type": "code",
      "source": [
        "Ypredict = model.predict(Xtest)\n",
        "print(f\"The independent values are: {Xtest}\")\n",
        "print(f\"The dependent values are: {Ypredict}\")\n"
      ],
      "metadata": {
        "colab": {
          "base_uri": "https://localhost:8080/"
        },
        "id": "oajePC6FdrDm",
        "outputId": "3a0cd6cd-da90-4b1a-e63c-0e6b4526b17a"
      },
      "execution_count": null,
      "outputs": [
        {
          "output_type": "stream",
          "name": "stdout",
          "text": [
            "The independent values are:         Trip Seconds\n",
            "238792         673.0\n",
            "382830         637.0\n",
            "477050         387.0\n",
            "256720         880.0\n",
            "505816        2848.0\n",
            "...              ...\n",
            "212407         554.0\n",
            "524518         727.0\n",
            "94730         1074.0\n",
            "541659         508.0\n",
            "624267         410.0\n",
            "\n",
            "[74136 rows x 1 columns]\n",
            "The dependent values are: [3.20228651 2.97589265 1.40371308 ... 5.72406254 2.16464799 1.5483536 ]\n"
          ]
        }
      ]
    }
  ]
}